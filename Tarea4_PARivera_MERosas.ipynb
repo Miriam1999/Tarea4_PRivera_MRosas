{
 "cells": [
  {
   "cell_type": "markdown",
   "metadata": {},
   "source": [
    "<img style=\"float: left; margin: 30px 15px 15px 15px;\" src=\"https://pngimage.net/wp-content/uploads/2018/06/logo-iteso-png-5.png\" width=\"300\" height=\"500\" /> \n",
    "    \n",
    "    \n",
    "### <font color='navy'> Simulación de procesos financieros. \n",
    "\n",
    "**Nombres:** Pablo Alejandro Rivera Sánchez y Miriam Eunice Rosas Medellín.\n",
    "\n",
    "**Fecha:** 22 de febrero del 2021.\n",
    "\n",
    "**Expediente** : 721005 y 721278.\n",
    "**Profesor:** Oscar David Jaramillo Zuluaga.\n",
    "\n",
    "# Tarea 4: Clase 7\n",
    "**Link al repositorio en Github**: https://github.com/pabloriverasnz/Tarea4_PRivera_MRosas"
   ]
  },
  {
   "cell_type": "markdown",
   "metadata": {},
   "source": [
    "## Ejercicio 1"
   ]
  },
  {
   "cell_type": "markdown",
   "metadata": {},
   "source": [
    "Como ejemplo simple de una simulación de Monte Carlo, considere calcular la probabilidad de una suma particular del lanzamiento de tres dados (cada dado tiene valores del uno al seis). Además cada dado tiene las siguientes carácterísticas: el primer dado no está cargado (distribución uniforme todos son equiprobables); el segundo y tercer dado están cargados basados en una distribución binomial con parámetros (`n = 5, p = 0.5` y `n = 5, p = 0.2`). Calcule la probabilidad de que la suma resultante sea 7, 14 o 18. "
   ]
  },
  {
   "cell_type": "markdown",
   "metadata": {},
   "source": [
    "### Solución de Pablo"
   ]
  },
  {
   "cell_type": "markdown",
   "metadata": {},
   "source": [
    "#### Código"
   ]
  },
  {
   "cell_type": "code",
   "execution_count": 1,
   "metadata": {},
   "outputs": [],
   "source": [
    "import numpy as np\n",
    "import matplotlib.pyplot as plt\n",
    "import pandas as pd\n",
    "import os\n",
    "import scipy.stats as st"
   ]
  },
  {
   "cell_type": "code",
   "execution_count": 2,
   "metadata": {},
   "outputs": [],
   "source": [
    "def juegos():\n",
    "    dado_nc = np.random.randint(1, 7, 1)\n",
    "    dado_c1 = st.binom(n = 5, p = 0.5, loc = 1).rvs(size = 1)\n",
    "    dado_c2 = st.binom(n = 5, p = 0.2, loc = 1).rvs(size = 1)\n",
    "    suma = dado_nc + dado_c1 + dado_c2\n",
    "    if suma == 7:\n",
    "        return 1\n",
    "    elif suma == 14:\n",
    "        return 1\n",
    "    elif suma == 18:\n",
    "        return 1\n",
    "    else:\n",
    "        return 0   "
   ]
  },
  {
   "cell_type": "code",
   "execution_count": 3,
   "metadata": {},
   "outputs": [
    {
     "data": {
      "text/plain": [
       "0.14008"
      ]
     },
     "execution_count": 3,
     "metadata": {},
     "output_type": "execute_result"
    }
   ],
   "source": [
    "Nj = 100000\n",
    "prob71418 = sum([juegos() for i in range(Nj)]) / Nj\n",
    "prob71418"
   ]
  },
  {
   "cell_type": "code",
   "execution_count": 4,
   "metadata": {},
   "outputs": [
    {
     "data": {
      "text/plain": [
       "(0.12675, 0.01339, 0.0)"
      ]
     },
     "execution_count": 4,
     "metadata": {},
     "output_type": "execute_result"
    }
   ],
   "source": [
    "N = 100000\n",
    "dado_c1 = st.binom(n = 5, p = 0.5, loc = 1).rvs(size = N)\n",
    "dado_c2 = st.binom(n = 5, p = 0.2, loc = 1).rvs(size = N)\n",
    "dado_nc = np.random.randint(1, 7, N)\n",
    "sm = dado_c1 + dado_c2 + dado_nc\n",
    "sr7 = sum(list(map(lambda x: 1 if x == 7 else 0, sm))) / N\n",
    "sr14 = sum(list(map(lambda x: 1 if x == 14 else 0, sm))) / N\n",
    "sr18 = sum(list(map(lambda x: 1 if x == 18 else 0, sm))) / N\n",
    "\n",
    "sr7, sr14, sr18"
   ]
  },
  {
   "cell_type": "code",
   "execution_count": 5,
   "metadata": {},
   "outputs": [
    {
     "name": "stdout",
     "output_type": "stream",
     "text": [
      "La probabilidad de lanzar estos 3 dados y sacar 7, 14 o 18 (juntos) es de:  0.14008\n",
      "La probabilidad de lanzar estos 3 dados y sacar 7 es de:  0.12675\n",
      "La probabilidad de lanzar estos 3 dados y sacar 14 es de:  0.01339\n",
      "La probabilidad de lanzar estos 3 dados y sacar 18 es de:  0.0\n"
     ]
    }
   ],
   "source": [
    "print('La probabilidad de lanzar estos 3 dados y sacar 7, 14 o 18 (juntos) es de: ', prob71418)\n",
    "print('La probabilidad de lanzar estos 3 dados y sacar 7 es de: ', sr7)\n",
    "print('La probabilidad de lanzar estos 3 dados y sacar 14 es de: ', sr14)\n",
    "print('La probabilidad de lanzar estos 3 dados y sacar 18 es de: ', sr18)"
   ]
  },
  {
   "cell_type": "markdown",
   "metadata": {},
   "source": [
    "#### Markdown"
   ]
  },
  {
   "cell_type": "markdown",
   "metadata": {},
   "source": [
    "Calculé dos probabilidades diferentes ya que no entendí bien cuál pedía el ejercicio. La primera es la probabilidad de que, al lanzar los 3 dados como especifica el problema, se obtenga entre los 3 ya sea un 7, un 14 o un 18. Esto se hizo en una función que simula el juego en el que, si la suma de los 3 dados da algunos de los números nos devuelve 1, al simular el juego varias veces podemos obtener la probabilidad. El segundo de set de probabilidades es la probabilidad individual de obtener cada número (7, 14 y 18), esta se calcula simulando 100000 veces los dados y dentro de la suma encontrar cuántas veces salió el número deseado.\n",
    "\n",
    "Probabilidades:\n",
    "- De 7, 14 o 18: $14\\%$\n",
    "- De 7: $12.68\\%$\n",
    "- De 14: $1.34\\%$\n",
    "- De 18: $0\\%$"
   ]
  },
  {
   "cell_type": "markdown",
   "metadata": {},
   "source": [
    "### Solución de Miriam"
   ]
  },
  {
   "cell_type": "markdown",
   "metadata": {},
   "source": [
    "#### Código"
   ]
  },
  {
   "cell_type": "code",
   "execution_count": 6,
   "metadata": {},
   "outputs": [
    {
     "name": "stdout",
     "output_type": "stream",
     "text": [
      "La probabilidad de que la suma sea 7 es 0.12712.\n",
      "La probabilidad de que la suma sea 14 es 0.01359.\n",
      "La probabilidad de que la suma sea 18 es 0.0.\n"
     ]
    }
   ],
   "source": [
    "import numpy as np\n",
    "import scipy.stats as st\n",
    "np.random.seed(123)\n",
    "dado1 = np.random.randint(1, 7, 100000)\n",
    "dado2 = st.binom(n = 5, p = 0.5, loc = 1).rvs(size = 100000)\n",
    "dado3 = st.binom(n = 5, p = 0.2, loc = 1).rvs(size = 100000)\n",
    "suma = dado1 + dado2 + dado3 # arreglo de las sumas de 100,000 (cien mil) tiradas\n",
    "proba7 = len(suma[suma == 7]) / len(suma)\n",
    "proba14 = len(suma[suma == 14]) / len(suma)\n",
    "proba18 = len(suma[suma== 18]) / len(suma)\n",
    "print(\"La probabilidad de que la suma sea 7 es \" + str(proba7) + \".\")\n",
    "print(\"La probabilidad de que la suma sea 14 es \" + str(proba14) + \".\")\n",
    "print(\"La probabilidad de que la suma sea 18 es \" + str(proba18) + \".\")"
   ]
  },
  {
   "cell_type": "markdown",
   "metadata": {},
   "source": [
    "#### Markdown"
   ]
  },
  {
   "cell_type": "markdown",
   "metadata": {},
   "source": [
    "Si se utiliza la semilla 123 para generar los resultados aleatorios de los dados (el primero con distribución uniforme y los siguientes con distribución binomial), y se tiran 100,000 veces, la probabilidad de las sumas son las siguientes:\n",
    "1. La probabilidad de que la suma sea 7 es $12.71\\%$.\n",
    "2. La probabilidad de que la suma sea 14 es $1.36\\%$.\n",
    "3. La probabilidad de que la suma sea 18 es $0\\%$."
   ]
  },
  {
   "cell_type": "markdown",
   "metadata": {},
   "source": [
    "## Ejercicio 2"
   ]
  },
  {
   "cell_type": "markdown",
   "metadata": {},
   "source": [
    "##### Ejercicio de aplicación - Cafetería Central\n",
    "\n",
    "Premisas para la simulación:\n",
    "- Negocio de alimentos que vende bebidas y alimentos.\n",
    "- Negocio dentro del ITESO.\n",
    "- Negocio en cafetería central.\n",
    "- Tipo de clientes (hombres y mujeres).\n",
    "- Rentabilidad del 60%.\n",
    "\n",
    "##### Objetivo\n",
    "Realizar una simulación estimando el tiempo medio que se tardarán los clientes en ser atendidos entre el horario de 6:30 am a 1:30 pm. Además saber el consumo. \n",
    "**Analizar supuestos y limitantes**"
   ]
  },
  {
   "cell_type": "markdown",
   "metadata": {},
   "source": [
    "##### Supuestos en simulación\n",
    "Clasificación de clientes: \n",
    "- Mujer  = 1 $\\longrightarrow$ aleatorio < 0.5\n",
    "- Hombre = 0 $\\longrightarrow$ aleatorio $\\geq$ 0.5.\n",
    "\n",
    "Condiciones iniciales:\n",
    "- Todas las distrubuciones de probabilidad se supondrán uniformes.\n",
    "- Tiempo de simulación: 6:30 am - 1:30 pm $\\longrightarrow$ T = 7 horas = 25200 seg.\n",
    "- Tiempo de llegada hasta ser atendido: Min = 5 seg., Max = 30 seg.\n",
    "- Tiempo que tardan los clientes en ser atendidos:\n",
    "    - Mujer: Min = 1 min. = 60 seg., Max = 5 min. = 300 seg.\n",
    "    - Hombre: Min = 40 seg. , Max = 2 min. = 120 seg.\n",
    "- Consumo según el tipo de cliente:\n",
    "    - Mujer: Min = 30 pesos, Max = 100 pesos\n",
    "    - Hombre: Min = 20 pesos, Max = 80 pesos\n",
    "\n",
    "Responder las siguientes preguntas basados en los datos del problema:\n",
    "1. ¿Cuáles fueron los gastos de los hombres y las mujeres en 5 días de trabajo?\n",
    "2. ¿Cuál fue el consumo promedio de los hombres y mujeres?\n",
    "3. ¿Cuál fue el número de personas atendidas por día?\n",
    "4. ¿Cuál fue el tiempo de atención promedio?\n",
    "5. ¿Cuánto fue la ganancia promedio de la cafetería en 5 días de trabajo y su respectiva rentabilidad?"
   ]
  },
  {
   "cell_type": "code",
   "execution_count": 2,
   "metadata": {},
   "outputs": [],
   "source": [
    "# Datos del problema\n",
    "d = 5\n",
    "T = 25200\n",
    "T_at_min = 5; T_at_max = 30\n",
    "T_mujer_min = 60; T_mujer_max = 300\n",
    "T_hombre_min = 40; T_hombre_max = 120\n",
    "C_mujer_min = 30; C_mujer_max = 100\n",
    "C_hombre_min = 20; C_hombre_max = 80"
   ]
  },
  {
   "cell_type": "markdown",
   "metadata": {},
   "source": [
    "### Solución de Pablo"
   ]
  },
  {
   "cell_type": "markdown",
   "metadata": {},
   "source": [
    "#### Código"
   ]
  },
  {
   "cell_type": "code",
   "execution_count": 3,
   "metadata": {},
   "outputs": [],
   "source": [
    "# Generamos variables aleatorias uniformes entre 1 y 0, 1000 clientes por 5 días.\n",
    "N_clientes = 1000\n",
    "clientesx = st.uniform(loc = 0, scale = 1).rvs(size = [N_clientes , d])"
   ]
  },
  {
   "cell_type": "code",
   "execution_count": 4,
   "metadata": {},
   "outputs": [],
   "source": [
    "# Convertimos las variables entre 1 y 0 a ceros y unos para diferenciar el sexo de la persona.\n",
    "clientes_t = [[1 if clientesx[i,j] < 0.5 else 0 for j in range(clientesx.shape[1])] for i in range(len(clientesx))]\n",
    "\n",
    "# Esta variable simplemente contiene el total de clientes por los 5 días\n",
    "clientes_totales = [[1 if clientesx[i,j] < 0.5 else 1 for j in range(clientesx.shape[1])] for i in range(len(clientesx))]"
   ]
  },
  {
   "cell_type": "code",
   "execution_count": 5,
   "metadata": {},
   "outputs": [],
   "source": [
    "# Calculamos el tiempo de llegada hasta ser atendido con su distribución para el número de clientes y los días.\n",
    "t_llegada = st.uniform(loc = T_at_min, scale = T_at_max - T_at_min).rvs(size = [N_clientes, d])\n",
    "\n",
    "# Multiplicamos los clientes totales por el tiempo de llegada\n",
    "# Independientemente de si la persona es hombre o mujer, habrá un tiempo de espera para cada cliente.\n",
    "t1 = clientes_totales * t_llegada"
   ]
  },
  {
   "cell_type": "code",
   "execution_count": 6,
   "metadata": {},
   "outputs": [],
   "source": [
    "# Generamos la variable aleatoria del tiempo en el que las mujeres serán atendidas.\n",
    "t_atend_m = st.uniform(loc = T_mujer_min, scale = T_mujer_max - T_mujer_min).rvs(size = [N_clientes, d])"
   ]
  },
  {
   "cell_type": "code",
   "execution_count": 7,
   "metadata": {},
   "outputs": [],
   "source": [
    "# Multiplicamos la lista de clientes, que identifica a las mujeres con el número 1\n",
    "# con el tiempo en que se tardaron en atender a las mujeres\n",
    "# esto genera una nueva variable en donde solo toman valores las mujeres (1)\n",
    "t_atend_m_c = clientes_t * t_atend_m"
   ]
  },
  {
   "cell_type": "code",
   "execution_count": 8,
   "metadata": {},
   "outputs": [],
   "source": [
    "# Sumamos la variable anterior con el tiempo que habíamos calculado para cada cliente\n",
    "# es decir, agregaremos el tiempo que se tardarón en atender solo a las mujeres al tiempo inicial\n",
    "# el tiempo de los hombre se queda igual por ahora.\n",
    "t2 = t_atend_m_c + t1"
   ]
  },
  {
   "cell_type": "code",
   "execution_count": 9,
   "metadata": {},
   "outputs": [],
   "source": [
    "# Generamos la variable aleatoria del tiempo en el que los hombres serán atendidos.\n",
    "t_atend_h = st.uniform(loc = T_hombre_min, scale = T_hombre_max - T_hombre_min).rvs(size = [N_clientes, d])\n",
    "\n",
    "# Revertimos la variable de 0 y 1 de cliente para que se identifique como 1 a los hombres.\n",
    "clientes_t_inv = [[0 if clientesx[i,j] < 0.5 else 1 for j in range(clientesx.shape[1])] for i in range(len(clientesx))]"
   ]
  },
  {
   "cell_type": "code",
   "execution_count": 10,
   "metadata": {},
   "outputs": [],
   "source": [
    "# Multiplicamos dicha variable el tiempo en atender a los hombres y nos da\n",
    "# como resultado los tiempos que se tardaron en atender únicamente cuando eran hombre.\n",
    "t_atend_h_c = clientes_t_inv * t_atend_h\n"
   ]
  },
  {
   "cell_type": "code",
   "execution_count": 11,
   "metadata": {},
   "outputs": [
    {
     "data": {
      "text/plain": [
       "array([[ 53.2269179 ,  53.10302681, 228.51466053, 126.1237071 ,\n",
       "        122.42381445],\n",
       "       [127.01617408,  80.0725183 ,  76.11966902, 209.28791413,\n",
       "         58.83166083],\n",
       "       [104.06976702, 125.01591181, 318.82013927,  75.55967101,\n",
       "         98.69131802],\n",
       "       ...,\n",
       "       [116.64324924, 117.09338254,  83.44069084, 214.11281521,\n",
       "        124.92920644],\n",
       "       [ 95.62969856,  85.73205017, 248.85859074, 189.86518279,\n",
       "        204.26429759],\n",
       "       [248.57503038, 262.93657025, 118.34671854,  62.64774438,\n",
       "         86.12739312]])"
      ]
     },
     "execution_count": 11,
     "metadata": {},
     "output_type": "execute_result"
    }
   ],
   "source": [
    "# Sumamos la variable anterior para ahora obtener el tiempo total en que atendieron a los hombres\n",
    "# es decir, el tiempo inicial para cada personas más el tiempo individual de los hombres.\n",
    "\n",
    "# En esta variable tenemos los tiempos (en segundos) que tardaron en atender a todas las personas indivudales, \n",
    "# incluyen el inicial y el tiempo si es hombre o mujer.\n",
    "t3 = t_atend_h_c + t2\n",
    "t3"
   ]
  },
  {
   "cell_type": "code",
   "execution_count": 12,
   "metadata": {},
   "outputs": [
    {
     "name": "stdout",
     "output_type": "stream",
     "text": [
      "El número de personas atendidas por día fue:  [178, 156, 170, 173, 167] personas.\n"
     ]
    }
   ],
   "source": [
    "# Como tenemos segundos limitados por día, agregamos una condición en la que cada lista\n",
    "# se detenga cuando se llegue al límite de segundos por día (columna)\n",
    "tt = [[i for i in t3[:,j].cumsum() if i < T] for j in range(clientesx.shape[1])]\n",
    "\n",
    "# Estas son el número de personas atendidas cada día. \n",
    "personas_atendidas = [len(tt[i]) for i in range(len(tt))]\n",
    "print('El número de personas atendidas por día fue: ', personas_atendidas, 'personas.')"
   ]
  },
  {
   "cell_type": "code",
   "execution_count": 13,
   "metadata": {},
   "outputs": [],
   "source": [
    "def selec_hasta_max(variable: 'Variable sobre la cual se tomará hasta el máximo número de clientes atendidos'):\n",
    "    '''\n",
    "    Esta función nos devuelve una lista de valores \n",
    "    para cada día (columna) hasta el número máximo de personas atendidas\n",
    "    de la variable que elegiamos (array),\n",
    "    los número máximos se encuentran en la variable 'personas_atendidas'\n",
    "    '''\n",
    "    x = [variable[0:personas_atendidas[i],i] for i in range(clientesx.shape[1])]\n",
    "    return x"
   ]
  },
  {
   "cell_type": "code",
   "execution_count": 14,
   "metadata": {},
   "outputs": [],
   "source": [
    "# Seleccionamos los tiempos de cada cliente (total ya con el inicial y sabiendo su sexo)\n",
    "# hasta el valor en el que se supera el máximo de segundos, en otras palabras\n",
    "# hasta el número máximo de personas atendidas.\n",
    "ti_personas_atendidas = selec_hasta_max(t3)"
   ]
  },
  {
   "cell_type": "code",
   "execution_count": 15,
   "metadata": {},
   "outputs": [
    {
     "name": "stdout",
     "output_type": "stream",
     "text": [
      "El tiempo de atención promedio por día fue de:  [141.0096, 160.75, 147.6574, 145.0058, 150.8365] segundos, mientras que el promedio de los 5 días fue de:  149.0519 segundos.\n"
     ]
    }
   ],
   "source": [
    "# Promedio de tiempo de atención por cliente por día.\n",
    "t_prom = [round(ti_personas_atendidas[i].mean(), 4) for i in range(clientesx.shape[1])]\n",
    "t_prom_tt = sum(t_prom) / len(t_prom)\n",
    "print('El tiempo de atención promedio por día fue de: ', t_prom, \n",
    "      'segundos, mientras que el promedio de los 5 días fue de: ', round(t_prom_tt, 4), 'segundos.')"
   ]
  },
  {
   "cell_type": "code",
   "execution_count": 16,
   "metadata": {},
   "outputs": [],
   "source": [
    "# Creamos la variable aleatoria para el consumo (en dinero) de las mujeres cada día.\n",
    "consumo_m = st.uniform(loc = C_mujer_min, scale = C_mujer_max - C_mujer_min).rvs(size = [N_clientes, d])"
   ]
  },
  {
   "cell_type": "code",
   "execution_count": 17,
   "metadata": {},
   "outputs": [],
   "source": [
    "# Multiplicamos dicho consumo con los clientes que son mujeres (identificadas con un 1)\n",
    "consumo_m_t = clientes_t * consumo_m\n",
    "\n",
    "# Seleccionamos los datos hasta el máximo número de clientes atendidos por día para las mujeres.\n",
    "consumo_m_tt = selec_hasta_max(consumo_m_t)"
   ]
  },
  {
   "cell_type": "code",
   "execution_count": 18,
   "metadata": {},
   "outputs": [],
   "source": [
    "# Creamos la variable aleatoria para el consumo (en dinero) de los hombres cada día.\n",
    "consumo_h = st.uniform(loc = C_hombre_min, scale = C_hombre_max - C_hombre_min).rvs(size = [N_clientes, d])"
   ]
  },
  {
   "cell_type": "code",
   "execution_count": 19,
   "metadata": {},
   "outputs": [],
   "source": [
    "# Multiplicamos dicho consumo con los clientes que son mayores (identificadas con un 1) en la clientes inversa.\n",
    "consumo_h_t = clientes_t_inv * consumo_h\n",
    "\n",
    "# Seleccionamos los datos hasta el máximo número de clientes atendidos por día para los hombres.\n",
    "consumo_h_tt = selec_hasta_max(consumo_h_t)"
   ]
  },
  {
   "cell_type": "code",
   "execution_count": 20,
   "metadata": {},
   "outputs": [
    {
     "data": {
      "text/plain": [
       "[array([37.82774048, 41.40339593, 66.91597433, 70.95083225, 40.23601973,\n",
       "        97.59981867, 23.9937398 , 56.87163244, 82.22915619, 33.61299268,\n",
       "        81.17588211, 39.69775587, 31.52552134, 50.72434112, 47.05500453,\n",
       "        61.85708656, 77.85407004, 66.05475067, 50.84714982, 82.41048274,\n",
       "        64.40340011, 55.02601494, 53.62694023, 56.62251306, 40.46715134,\n",
       "        46.11745517, 33.92891968, 20.01523418, 36.12747742, 70.89111857,\n",
       "        52.26057148, 79.42102573, 78.06607881, 47.1845454 , 26.15242973,\n",
       "        90.5308906 , 62.91271906, 46.71559404, 97.57181996, 70.5010655 ,\n",
       "        40.4227019 , 89.76295182, 20.50642442, 62.16336768, 42.91533524,\n",
       "        58.20730859, 66.9021507 , 61.55857742, 99.94529945, 64.34043045,\n",
       "        47.39752203, 43.10853199, 55.45232391, 48.28237178, 64.98612215,\n",
       "        96.47920534, 84.04785995, 53.07043223, 63.3783027 , 64.94402442,\n",
       "        73.31592826, 76.74185668, 63.97296766, 22.21356333, 45.14575693,\n",
       "        71.35969781, 82.29379873, 20.72539834, 65.88419254, 68.32836316,\n",
       "        37.06385408, 77.73221014, 65.4442245 , 31.13126962, 30.74721444,\n",
       "        63.68998753, 55.66135782, 91.24878597, 39.9538701 , 43.07395308,\n",
       "        27.02421944, 34.77641153, 97.42412573, 93.99725187, 30.14248951,\n",
       "        40.81805009, 77.998617  , 44.8452518 , 75.55850261, 33.64397549,\n",
       "        86.83808604, 66.84641225, 75.52698223, 35.91261533, 86.42778963,\n",
       "        54.11433841, 73.13801074, 96.52062246, 51.60922937, 43.39578991,\n",
       "        53.51533935, 73.57436203, 65.70873822, 78.18525183, 70.19935006,\n",
       "        69.41068129, 82.62809902, 68.69857739, 44.23813533, 30.46500524,\n",
       "        57.32406782, 77.36622361, 34.93478703, 62.20218846, 79.89750849,\n",
       "        81.309652  , 45.96632678, 73.31735512, 60.05634188, 60.14062487,\n",
       "        23.88514712, 40.36972141, 98.98368487, 50.86255312, 53.04167874,\n",
       "        96.69082035, 61.10529699, 30.68799652, 39.9512826 , 28.10070118,\n",
       "        74.27036122, 44.05199691, 21.69450377, 39.79918076, 52.56993633,\n",
       "        69.96809776, 84.96106338, 78.98210249, 31.74789021, 35.5454976 ,\n",
       "        62.9421865 , 34.29395963, 96.05660768, 49.18992554, 62.72378247,\n",
       "        56.21387452, 64.69308668, 52.7893514 , 68.92751857, 36.30945681,\n",
       "        50.90359326, 52.28371753, 57.89891156, 79.82537947, 78.65603836,\n",
       "        42.03037008, 59.49868579, 40.65624596, 37.92424167, 62.86373434,\n",
       "        41.5665688 , 51.46076097, 97.28282285, 22.49484264, 64.52614563,\n",
       "        64.4035065 , 91.93938628, 97.6827967 , 32.45657681, 55.7294718 ,\n",
       "        39.65103435, 75.9480029 , 67.26284455, 71.41647516, 31.65315653,\n",
       "        76.70666276, 56.01387175, 31.80463712]),\n",
       " array([48.42813266, 59.0396496 , 49.27213037, 73.98022863, 62.41947123,\n",
       "        35.75919782, 45.45464176, 94.17422228, 36.41271014, 84.42571193,\n",
       "        64.91286134, 86.35892897, 33.30522212, 34.00170251, 47.63777605,\n",
       "        40.15394156, 34.94031465, 57.15297127, 37.06818302, 36.66938944,\n",
       "        72.04736284, 52.51248461, 38.9724635 , 59.6162702 , 95.96037195,\n",
       "        51.38920176, 35.44060334, 47.69841913, 55.82988345, 23.88375147,\n",
       "        42.10223088, 45.01899367, 86.43130994, 55.91596537, 83.50782746,\n",
       "        40.18987266, 39.69820133, 65.33783584, 44.28439859, 91.63078494,\n",
       "        72.9333502 , 38.17553399, 33.81706185, 72.61540414, 31.13591311,\n",
       "        20.49432837, 57.70141785, 61.70571254, 63.07546691, 81.58767258,\n",
       "        75.4673037 , 64.40095376, 61.17782833, 84.47563065, 50.55123709,\n",
       "        63.47716188, 43.5339222 , 90.08266235, 43.30381705, 73.24677867,\n",
       "        88.75929356, 30.27578503, 92.44927469, 43.53869598, 29.92366419,\n",
       "        58.14073506, 88.88205048, 50.78180513, 25.70607487, 33.55484813,\n",
       "        61.17201987, 59.29649075, 48.60319473, 58.05767673, 97.39555931,\n",
       "        40.09094301, 92.47098583, 93.98890012, 73.70881815, 72.35922643,\n",
       "        35.43407818, 30.96856376, 90.40702641, 52.59782608, 41.35873461,\n",
       "        43.2391973 , 67.99490547, 45.16882417, 57.50486912, 55.68617842,\n",
       "        40.51159935, 34.99902328, 57.5796791 , 77.89099098, 39.66641326,\n",
       "        43.21238531, 90.09009397, 52.90405234, 52.95087923, 72.06558047,\n",
       "        56.07813843, 62.99887521, 78.30626124, 51.23352684, 26.4218829 ,\n",
       "        34.74182874, 32.12515911, 76.81580337, 68.46575852, 71.4561917 ,\n",
       "        66.63918598, 74.14004184, 56.53578343, 25.06214372, 66.88503216,\n",
       "        92.38352629, 42.7899152 , 46.73572427, 57.64693999, 88.42935306,\n",
       "        22.40670993, 37.12474904, 95.35027499, 60.48347222, 52.66990835,\n",
       "        37.15707861, 52.04581623, 31.00417337, 38.74412907, 52.92994739,\n",
       "        95.87054004, 64.28369965, 68.93426715, 68.10481137, 34.7475682 ,\n",
       "        67.79553745, 45.26042878, 75.83684285, 59.77236754, 48.60234252,\n",
       "        26.67064841, 39.09778905, 89.55495741, 67.30147906, 32.50530015,\n",
       "        77.62593008, 72.52548777, 82.18704543, 51.02838172, 76.05378046,\n",
       "        30.13701181, 70.32632742, 36.4988653 , 40.6593941 , 79.58140902,\n",
       "        74.36047214]),\n",
       " array([74.04038919, 59.78728175, 94.919928  , 78.97919704, 98.69533663,\n",
       "        42.92753118, 65.30764318, 84.96763039, 73.07952827, 78.67255279,\n",
       "        72.86711682, 47.0518669 , 28.59785254, 43.00151589, 62.13100677,\n",
       "        57.46799315, 32.23337979, 52.67873801, 49.27912985, 57.43469173,\n",
       "        69.75914132, 38.99420112, 83.62898263, 50.64855283, 68.3150014 ,\n",
       "        84.16587756, 31.82397396, 54.74442335, 49.77105075, 44.45455228,\n",
       "        62.41364915, 38.41197239, 69.91769661, 46.64379   , 43.36459952,\n",
       "        81.77277998, 36.17485724, 43.11242157, 79.67517173, 31.92904717,\n",
       "        61.25215132, 59.58699934, 37.48419237, 78.91737041, 88.33650027,\n",
       "        81.26291912, 88.92991408, 33.4941909 , 72.01226661, 45.41984286,\n",
       "        84.43352853, 36.47528096, 94.54989575, 44.89003954, 99.56670421,\n",
       "        45.46149547, 35.22458171, 62.68353258, 38.89531354, 55.73300713,\n",
       "        71.39513718, 42.16531277, 30.03108977, 36.14799909, 68.66374326,\n",
       "        47.68031612, 83.23322306, 98.41261718, 70.54889473, 35.09248323,\n",
       "        94.49425128, 44.16135646, 32.12288451, 36.80540272, 79.78179001,\n",
       "        47.94182064, 37.12189106, 68.65709242, 71.72538548, 68.7052144 ,\n",
       "        78.45412205, 31.21888875, 23.43898026, 38.11199545, 80.04165809,\n",
       "        50.78424481, 39.50409388, 55.95465523, 58.27316864, 53.44164977,\n",
       "        39.04325143, 89.80659699, 66.16071167, 34.26188603, 70.78471825,\n",
       "        58.80079909, 68.45387231, 57.98128947, 51.63994197, 86.50450009,\n",
       "        92.18601021, 47.53833087, 79.85563586, 55.02023454, 97.46064513,\n",
       "        55.79216104, 66.05947884, 74.95705217, 77.57370444, 20.11146493,\n",
       "        30.45214396, 65.45824511, 91.32610798, 96.12283952, 81.51450299,\n",
       "        53.60312333, 99.88929342, 27.41037247, 54.28462477, 50.69167713,\n",
       "        66.56701866, 66.33978441, 56.44227267, 78.04979598, 40.48762476,\n",
       "        37.00333518, 47.40082006, 83.42267329, 69.02619826, 70.73373798,\n",
       "        32.5066284 , 93.91058173, 32.02177755, 38.71394209, 56.8763416 ,\n",
       "        41.93837238, 97.22561218, 79.75759333, 76.33277443, 68.15156075,\n",
       "        76.48623655, 34.60604454, 49.12809844, 27.92609977, 35.55691658,\n",
       "        69.50304417, 70.02292825, 21.06629443, 74.22361156, 94.17657737,\n",
       "        50.34006103, 95.11414114, 43.14188606, 44.57772544, 29.83927864,\n",
       "        73.36995956, 73.99575009, 30.64432309, 78.16028376, 94.43663707,\n",
       "        61.75704091, 76.86434211, 70.55406278, 33.61869133, 54.61816552,\n",
       "        36.13642217, 54.80238229, 75.98915522, 50.93746501, 76.37709224]),\n",
       " array([36.15319612, 68.68187532, 67.51580383, 81.97336388, 35.57324542,\n",
       "        74.94103833, 68.37364529, 93.10081161, 21.60136787, 32.56476964,\n",
       "        57.76715663, 94.87274511, 97.72196479, 76.31304637, 64.31482045,\n",
       "        42.81023539, 78.31135288, 73.55818161, 68.94059796, 47.96620982,\n",
       "        84.98262089, 53.79428832, 30.90461204, 43.74417753, 72.31138161,\n",
       "        92.1100947 , 62.35520793, 37.15304802, 68.66659373, 55.74680967,\n",
       "        76.66970191, 92.97393781, 66.50674205, 96.89890633, 34.76090753,\n",
       "        48.37863159, 95.1695007 , 97.5605971 , 67.23831808, 55.63717652,\n",
       "        46.12853385, 35.37498703, 38.6261857 , 52.7485517 , 69.87821763,\n",
       "        68.80862839, 31.16889223, 45.01288395, 71.93217176, 53.96529864,\n",
       "        54.99952007, 53.98733319, 30.51851882, 73.0835692 , 74.18024783,\n",
       "        66.86869326, 56.89148566, 55.88890844, 55.39427169, 52.43123396,\n",
       "        52.04062019, 40.71859789, 63.09128537, 24.28305336, 78.28120058,\n",
       "        54.34479072, 60.46883523, 63.90837525, 79.96732774, 48.72620789,\n",
       "        40.91658433, 47.88616088, 93.38978237, 69.38756311, 79.92713488,\n",
       "        36.51313535, 29.36599576, 59.11135322, 29.13177126, 51.24798386,\n",
       "        48.76643801, 70.76627033, 22.87498843, 65.21380244, 55.11393917,\n",
       "        66.37346323, 76.41480046, 41.91010143, 27.58229155, 45.59307504,\n",
       "        38.56223997, 62.10068274, 44.46125637, 68.84249549, 50.11653014,\n",
       "        49.58161118, 35.53707785, 21.08638459, 43.50571457, 96.2970163 ,\n",
       "        48.52879623, 40.20838448, 71.84160925, 26.57439912, 72.9336419 ,\n",
       "        32.97114337, 91.37148732, 61.75870546, 57.71210427, 37.20183608,\n",
       "        54.0031208 , 55.8121701 , 74.42115834, 44.86734072, 66.92956387,\n",
       "        27.82911417, 47.7965059 , 30.04228141, 52.96640524, 76.31658274,\n",
       "        61.75776223, 35.26385667, 41.77594497, 59.6560367 , 54.36611179,\n",
       "        67.35487408, 96.8406016 , 63.42540053, 27.83375788, 71.72305571,\n",
       "        43.54586978, 51.77956766, 63.08139753, 25.08301627, 51.50240279,\n",
       "        54.30862186, 66.03715752, 20.88323269, 57.25260925, 54.93431044,\n",
       "        74.25435447, 66.33749475, 51.73330868, 58.69767868, 78.52888876,\n",
       "        47.56767842, 36.54684895, 69.09675055, 55.22655446, 78.88023818,\n",
       "        45.18159579, 73.44022313, 50.9425691 , 89.75028632, 22.58215307,\n",
       "        26.25510331, 86.0812922 , 47.27585633, 24.3882708 , 55.53933815,\n",
       "        31.93326068, 45.19718896, 31.81932109, 72.18250317, 62.6038856 ,\n",
       "        78.86585171, 30.35276592, 77.71916922, 93.42395882, 31.12935102,\n",
       "        95.10968152, 65.35447872, 50.50926069]),\n",
       " array([37.61650539, 46.26874362, 73.45857848, 85.93236128, 57.96991642,\n",
       "        72.38908498, 67.79331593, 37.53432618, 74.61855103, 63.21640357,\n",
       "        51.23164247, 44.40029156, 47.63470632, 45.68391224, 79.9379924 ,\n",
       "        77.91037359, 45.8478105 , 86.40150004, 26.85101093, 52.85637831,\n",
       "        67.12386105, 31.27922986, 53.58252846, 55.57102184, 75.18620626,\n",
       "        53.23468564, 60.69962313, 34.08364573, 59.18113719, 79.06378929,\n",
       "        45.59695091, 65.43079314, 77.71479446, 56.50815135, 54.78939592,\n",
       "        69.0592596 , 56.98017647, 52.43599522, 65.73902972, 56.09939658,\n",
       "        63.74113407, 49.19902071, 67.64163166, 26.20266238, 50.589893  ,\n",
       "        62.88061495, 39.95616326, 72.92710991, 90.93007864, 55.20055447,\n",
       "        64.80906565, 48.98600667, 57.29528154, 55.09016374, 20.53090294,\n",
       "        78.16714067, 20.76146018, 32.46306811, 73.16877065, 40.68074338,\n",
       "        84.09330386, 21.72705949, 71.44117634, 52.31900663, 36.77214682,\n",
       "        59.31583884, 31.05778606, 42.82169691, 66.54583452, 39.79025665,\n",
       "        81.72953245, 35.45318884, 70.9092006 , 52.92265134, 37.51290825,\n",
       "        79.2106146 , 45.84497128, 43.87443846, 41.09697959, 54.9576304 ,\n",
       "        62.2172297 , 94.89577822, 56.88761329, 83.48632829, 58.0363904 ,\n",
       "        52.13219688, 55.48430902, 55.88185453, 24.90217464, 69.06705068,\n",
       "        42.71721308, 52.15434497, 62.32723427, 66.18707776, 55.44799705,\n",
       "        35.88697478, 79.01537169, 22.18497029, 23.11270191, 66.23076608,\n",
       "        38.10229318, 77.30394168, 78.54901142, 99.30660843, 24.13001026,\n",
       "        75.85957711, 71.61452416, 45.80984099, 46.370556  , 59.60611455,\n",
       "        41.51602037, 93.5374093 , 52.07762471, 39.31188879, 58.55205641,\n",
       "        34.28515909, 40.60617196, 26.41213265, 30.60239611, 79.21538177,\n",
       "        67.33528531, 88.70978139, 31.0323226 , 62.57965505, 62.24472786,\n",
       "        52.348476  , 58.60026578, 94.7115504 , 56.50068379, 63.86501187,\n",
       "        62.84760504, 38.46205436, 93.58077086, 94.18528514, 98.70918546,\n",
       "        54.53517262, 58.03416873, 21.17928353, 84.58920849, 70.62537779,\n",
       "        45.0868653 , 59.57677075, 80.30794796, 79.88006728, 77.65486245,\n",
       "        91.5524804 , 76.68933231, 74.99922015, 44.82711958, 51.77748052,\n",
       "        59.80787171, 61.53659514, 51.3753249 , 20.09976532, 36.66956663,\n",
       "        75.43085458, 66.94942277, 41.1948559 , 38.44350744, 51.24259654,\n",
       "        47.71611002, 53.68096334, 62.00910052, 32.85775284, 35.3188198 ,\n",
       "        98.89313542, 90.21569881])]"
      ]
     },
     "execution_count": 20,
     "metadata": {},
     "output_type": "execute_result"
    }
   ],
   "source": [
    "# Sumamos los consumos de ambos sexos para obtener el gasto individual de cada cliente por día.\n",
    "# Como las variables anteriores ya contemplaban los clientes máximos, esta siguiente es la completa.\n",
    "consumo_mh_tt = [consumo_h_tt[i] + consumo_m_tt[i] for i in range(clientesx.shape[1])]\n",
    "consumo_mh_tt"
   ]
  },
  {
   "cell_type": "code",
   "execution_count": 21,
   "metadata": {},
   "outputs": [
    {
     "name": "stdout",
     "output_type": "stream",
     "text": [
      "La ganancia promedio de la cafetería en 5 días fue de:  9806.2542 pesos, con una rentabilidad de:  5883.7525 pesos.\n"
     ]
    }
   ],
   "source": [
    "# Sumamos el consumo de cada día para obtener la ganancia diaria del café.\n",
    "ganancia_cafe = [round(sum(consumo_mh_tt[i]), 4) for i in range(clientesx.shape[1])]\n",
    "\n",
    "# Ganancia total, ganancia promedio por día y rentabilidad del café\n",
    "ganancia_t_cafe = round(sum(ganancia_cafe), 4)\n",
    "ganancia_p_cafe = round(sum(ganancia_cafe) / len(ganancia_cafe), 4)\n",
    "rent_cafe = round(((sum(ganancia_cafe) / len(ganancia_cafe)) * 0.6), 4)\n",
    "\n",
    "print('La ganancia promedio de la cafetería en 5 días fue de: ', ganancia_p_cafe,\n",
    "     'pesos, con una rentabilidad de: ', rent_cafe, 'pesos.')"
   ]
  },
  {
   "cell_type": "code",
   "execution_count": 22,
   "metadata": {
    "scrolled": true
   },
   "outputs": [],
   "source": [
    "# Seleccionamos únicamente el consumo de las mujeres\n",
    "total_consumo_m = [consumo_m_tt[i][consumo_m_tt[i]!=0] for i in range(clientesx.shape[1])]\n",
    "\n",
    "# Seleccionamos únicamente el consumo por día de los hombres.\n",
    "total_consumo_h = [consumo_h_tt[i][consumo_h_tt[i]!=0] for i in range(clientesx.shape[1])]"
   ]
  },
  {
   "cell_type": "code",
   "execution_count": 23,
   "metadata": {},
   "outputs": [
    {
     "name": "stdout",
     "output_type": "stream",
     "text": [
      "Los gastos totales de las mujeres en los 5 días fue de:  27507.9982 pesos.\n"
     ]
    }
   ],
   "source": [
    "# Sumamos el consumo de cada cliente mujer por día, la suma de esto nos dará el total del consumo. \n",
    "gastos_m = [round(sum(total_consumo_m[i]), 4) for i in range(clientesx.shape[1])]\n",
    "\n",
    "gastos_t_m = sum(gastos_m)\n",
    "print('Los gastos totales de las mujeres en los 5 días fue de: ', gastos_t_m, 'pesos.')"
   ]
  },
  {
   "cell_type": "code",
   "execution_count": 24,
   "metadata": {},
   "outputs": [
    {
     "name": "stdout",
     "output_type": "stream",
     "text": [
      "Los gastos totales de los hombres en los 5 días fue de:  21523.2729 pesos.\n"
     ]
    }
   ],
   "source": [
    "# Sumamos el consumo de cada cliente hombre por día, la suma de esto nos dará el total del consumo. \n",
    "gastos_h = [round(sum(total_consumo_h[i]), 4) for i in range(clientesx.shape[1])]\n",
    "\n",
    "gastos_t_h = sum(gastos_h)\n",
    "print('Los gastos totales de los hombres en los 5 días fue de: ', gastos_t_h, 'pesos.')"
   ]
  },
  {
   "cell_type": "code",
   "execution_count": 25,
   "metadata": {},
   "outputs": [
    {
     "name": "stdout",
     "output_type": "stream",
     "text": [
      "El consumo promedio de las mujeres fue de:  64.2778 pesos.\n"
     ]
    }
   ],
   "source": [
    "# De las variables anteriores también podemos obtener el consumo medio por mujeres por día.\n",
    "prom_gastos_m = [round(total_consumo_m[i].mean(), 4) for i in range(clientesx.shape[1])]\n",
    "\n",
    "prom_gastos_t_m = round(sum(prom_gastos_m) / len(prom_gastos_m), 4)\n",
    "print('El consumo promedio de las mujeres fue de: ', prom_gastos_t_m, 'pesos.')"
   ]
  },
  {
   "cell_type": "code",
   "execution_count": 26,
   "metadata": {},
   "outputs": [
    {
     "name": "stdout",
     "output_type": "stream",
     "text": [
      "El consumo promedio de los hombres fue de:  51.6193 pesos.\n"
     ]
    }
   ],
   "source": [
    "# Y el consumo medio por hombres por día. \n",
    "prom_gastos_h = [round(total_consumo_h[i].mean(), 4) for i in range(clientesx.shape[1])]\n",
    "\n",
    "prom_gastos_t_h = round(sum(prom_gastos_h) / len(prom_gastos_h), 4)\n",
    "print('El consumo promedio de los hombres fue de: ', prom_gastos_t_h, 'pesos.')"
   ]
  },
  {
   "cell_type": "code",
   "execution_count": 27,
   "metadata": {},
   "outputs": [
    {
     "name": "stdout",
     "output_type": "stream",
     "text": [
      "Los gastos totales de las mujeres en los 5 días fue de:  27507.9982 pesos.\n",
      "Los gastos totales de los hombres en los 5 días fue de:  21523.2729 pesos.\n",
      "El consumo promedio de las mujeres fue de:  64.2778 pesos.\n",
      "El consumo promedio de los hombres fue de:  51.6193 pesos.\n",
      "El número de personas atendidas por día fue:  [178, 156, 170, 173, 167] personas.\n",
      "El tiempo de atención promedio por día fue de:  [141.0096, 160.75, 147.6574, 145.0058, 150.8365] segundos, mientras que el promedio de los 5 días fue de:  149.0519 segundos.\n",
      "La ganancia promedio de la cafetería en 5 días fue de:  9806.2542 pesos, con una rentabilidad de:  5883.7525 pesos.\n"
     ]
    }
   ],
   "source": [
    "# Los prints están en el código conforme se resolvía la pregunta pero también estarán aquí a manera de resumen.\n",
    "print('Los gastos totales de las mujeres en los 5 días fue de: ', gastos_t_m, 'pesos.')\n",
    "print('Los gastos totales de los hombres en los 5 días fue de: ', gastos_t_h, 'pesos.')\n",
    "print('El consumo promedio de las mujeres fue de: ', prom_gastos_t_m, 'pesos.')\n",
    "print('El consumo promedio de los hombres fue de: ', prom_gastos_t_h, 'pesos.')\n",
    "print('El número de personas atendidas por día fue: ', personas_atendidas, 'personas.')\n",
    "print('El tiempo de atención promedio por día fue de: ', t_prom, \n",
    "      'segundos, mientras que el promedio de los 5 días fue de: ', round(t_prom_tt, 4), 'segundos.')\n",
    "print('La ganancia promedio de la cafetería en 5 días fue de: ', ganancia_p_cafe,\n",
    "     'pesos, con una rentabilidad de: ', rent_cafe, 'pesos.')"
   ]
  },
  {
   "cell_type": "markdown",
   "metadata": {},
   "source": [
    "#### Markdown"
   ]
  },
  {
   "cell_type": "markdown",
   "metadata": {},
   "source": [
    "El problema de simulación se solucionó de la siguiente manera:\n",
    "\n",
    "- Se generó un array de números uniformes entre 0 y 1, cada número representaba un cliente y cada columna de la misma el día. Se convirtieron estos números aleatorios a unos y ceros para identificar el sexo del cliente.\n",
    "- Posteriormente teníamos que simular el tiempo de atención dependiendo de varias condiciones y la restricción de que no se podía pasar de cierto valor. \n",
    "- Primero calculamos el tiempo desde que el cliente llega hasta ser atendido, todos los clientes pasan por esta situación. Después calculamos el tiempo en el que las mujeres eran atendidas de acuerdo a una variable con cierta distribución, de igual manera, calculamos el tiempo en el que los hombres eran atendidos, esto con ayuda la primer variable que identificaba a los clientes por sexo. \n",
    "- Segundo, sumamos todos estos tiempos y los juntamos en una sola variable en donde cada tiempo representaba un cliente y de igual manera cada columna representaba un día. \n",
    "- Sobre estos tiempos, considerando todas las condiciones, aplicamos la restricción de tiempo para encontrar  hasta que cliente se iba a atender por día y por lo tanto teníamos **cuantos clientes se atendían por día**.\n",
    "- Gracias a esto pudimos reducir nuestra variable de tiempos hasta el número de clientes que en realidad se atendía y en base a esta información se calculó el **promedio de atención** por día y por los 5 días. \n",
    "- Posteriormente modelamos el consumo de hombres y mujeres y nuevamente, de acuerdo al sexo del cliente, se agregaba la cantidad consumida por cliente por día. De igual manera, calculamos únicamente sobre el número de clientes que se alcanzaba a atender por día.\n",
    "- De la información anterior se obtuvo la **ganancia promedio y la rentabilidad de la cafetería**, así como los **gastos totales en los 5 días** y el **gasto promedio** de ambos sexos.\n",
    "\n",
    "Estos fueron los resultados finales de la simulación:\n",
    "\n",
    "1. ¿Cuáles fueron los gastos de los hombres y las mujeres en 5 días de trabajo?\n",
    "\n",
    "El gasto de las mujeres en los 5 días de trabajo fue de $\\$27507.9982$. <br>\n",
    "El gasto de los hombres en los 5 días de trabajo fue de $\\$21523.2729$.\n",
    "\n",
    "2. ¿Cuál fue el consumo promedio de los hombres y mujeres?\n",
    "\n",
    "El consumo promedio de las mujeres fue de $\\$64.2778$. <br>\n",
    "El consumo promedio de los hombres fue de $\\$51.6193 pesos$.\n",
    "\n",
    "3. ¿Cuál fue el número de personas atendidas por día?\n",
    "\n",
    "El número de personas atendidas por día fue $178$, $156$, $170$, $173$, $167$ respectivamente. \n",
    "\n",
    "4. ¿Cuál fue el tiempo de atención promedio?\n",
    "\n",
    "El tiempo de atención promedio fue de $149.0519$ segundos.\n",
    "\n",
    "5. ¿Cuánto fue la ganancia promedio de la cafetería en 5 días de trabajo y su respectiva rentabilidad?\n",
    "\n",
    "La ganancia promedio de la cafetería en los 5 días fue de $\\$9806.2542$ con una rentabilidad de $\\$5883.7525$"
   ]
  },
  {
   "cell_type": "markdown",
   "metadata": {},
   "source": [
    "### Solución de Miriam"
   ]
  },
  {
   "cell_type": "markdown",
   "metadata": {},
   "source": [
    "#### Código"
   ]
  },
  {
   "cell_type": "code",
   "execution_count": 33,
   "metadata": {},
   "outputs": [],
   "source": [
    "np.random.seed(123) # semilla\n",
    "escenarios = 1000 # escenarios (en este caso, un escenario será una persona)\n",
    "aleatorios = [np.random.random(escenarios) for i in range(d)] # generar números aleatorios\n",
    "personas_d_dias = [np.array([0 if aleatorios[i][n] >= 0.5 else 1 for n in range(escenarios)]) for i in range(d)]\n",
    "                   # aplicar la condición hombre - mujer, 1000 personas por día (default)\n",
    "C_mujer = st.uniform(loc = C_mujer_min, scale = C_mujer_max - C_mujer_min).rvs(size = [escenarios, d], random_state = 123)\n",
    "          # distribución uniforme del consumo de las mujeres\n",
    "C_hombre = st.uniform(loc = C_hombre_min, scale = C_hombre_max - C_hombre_min).rvs(size = [escenarios, d], random_state = 123)\n",
    "           # distribución uniforme del consumo de los hombres\n",
    "T_at_mujer_min = T_at_min + T_mujer_min # tiempo mínimo total en el que se atiende a una mujer\n",
    "T_at_mujer_max = T_at_max + T_mujer_max # tiempo máximo total en el que se atiende a una mujer\n",
    "T_at_hombre_min = T_at_min + T_hombre_min # tiempo mínimo total en el que se atiende a un hombre\n",
    "T_at_hombre_max = T_at_max + T_hombre_max # tiempo máximo total en el que se atiende a un hombre\n",
    "T_mujer = st.uniform(loc = T_at_mujer_min, scale = T_at_mujer_max - T_at_mujer_min).rvs(size = [escenarios, d], \n",
    "          random_state = 123) # distribución uniforme del tiempo en el cual se atiende a una mujer\n",
    "T_hombre = st.uniform(loc = T_at_hombre_min, scale = T_at_hombre_max - T_at_hombre_min).rvs(size = [escenarios, d],\n",
    "           random_state = 123) # distribución unidorme del tiempo en el cual se atiende a un hombre\n",
    "tiempos = [[T_hombre.T[i][n] if personas_d_dias[i][n] == 0 else T_mujer.T[i][n] for n in range(escenarios)] for i in range(d)]\n",
    "          # tiempo en el cual cada una de las 1000 personas es atendida conforme llega, para los 5 días\n",
    "binary_personas = [[\"person\" if np.array(tiempos)[i].cumsum()[n] <= T else None for i in range(d)] for n in range(escenarios)]\n",
    "                  # se agrega \"person\" si dicha persona alcanza a ser atendida dentro del límite de tiempo"
   ]
  },
  {
   "cell_type": "code",
   "execution_count": 34,
   "metadata": {},
   "outputs": [
    {
     "name": "stdout",
     "output_type": "stream",
     "text": [
      "La cantidad de personas atendidas (hombre o mujer) en cada uno de los días son las siguientes [178, 169, 164, 160, 176]\n",
      "El tiempo de atención promedio (tanto para hombres como mujeres) de los 5 días fue de 148.56574803547173 seg. por persona.\n"
     ]
    }
   ],
   "source": [
    "num_personas = [list(np.array(binary_personas).T[i]).count(\"person\") for i in range(d)]\n",
    "print(\"La cantidad de personas atendidas (hombre o mujer) en cada uno de los días son las siguientes\", num_personas)\n",
    "dia1 = personas_d_dias[0][:num_personas[0]] # personas atendidas en el día 1 (con 0s y 1s), ya tomando en cuenta el tiempo\n",
    "dia2 = personas_d_dias[1][:num_personas[1]] # personas atendidas en el día 2 (con 0s y 1s), ya tomando en cuenta el tiempo\n",
    "dia3 = personas_d_dias[2][:num_personas[2]] # personas atendidas en el día 3 (con 0s y 1s), ya tomando en cuenta el tiempo\n",
    "dia4 = personas_d_dias[3][:num_personas[3]] # personas atendidas en el día 4 (con 0s y 1s), ya tomando en cuenta el tiempo\n",
    "dia5 = personas_d_dias[4][:num_personas[4]] # personas atendidas en el día 5 (con 0s y 1s), ya tomando en cuenta el tiempo\n",
    "dias = [dia1, dia2, dia3, dia4, dia5] # lista de litas de las personas atendidas por día\n",
    "tiempos2 = [[T_hombre.T[i][n] if dias[i][n] == 0 else T_mujer.T[i][n] for n in range(num_personas[i])] for i in range(d)]\n",
    "           # tiempo en el cual cada una de las personas es atendida conforme llega (ya tomando en cuenta cuales alcanzan)\n",
    "tiempo_prom = np.array(list(map(lambda x: np.array(x).mean(), tiempos2))).mean()\n",
    "              # primero calculo el promedio por día, y luego saco el promedio de todos los días\n",
    "print(\"El tiempo de atención promedio (tanto para hombres como mujeres) de los 5 días fue de \" + str(tiempo_prom) + \n",
    "      \" seg. por persona.\")"
   ]
  },
  {
   "cell_type": "code",
   "execution_count": 35,
   "metadata": {},
   "outputs": [
    {
     "name": "stdout",
     "output_type": "stream",
     "text": [
      "El consumo promedio de las mujeres en los 5 días sería de 65.47776471731973 pesos diarios.\n",
      "El consumo total acumulado de todas las mujeres en los 5 días sería de 27640.883526454185 pesos.\n",
      "El consumo promedio de los hombres en los 5 días sería de 50.43628365517978 pesos diarios.\n",
      "El consumo total acumulado de todas los hombres en los 5 días sería de 21312.6771069692 pesos.\n"
     ]
    }
   ],
   "source": [
    "consumos = [[C_hombre.T[i][n] if dias[i][n] == 0 else C_mujer.T[i][n] for n in range(num_personas[i])] for i in range(d)]\n",
    "           # consumo de cada una de las personas que alcanzaron a ser atendidas en cada uno de los 5 días\n",
    "cons_muj_con_cero = np.array(dias, dtype = object) * np.array(consumos, dtype = object) \n",
    "                    # únicamente el consumo de las mujeres para poder sacar el promedio (el de los hombres se muestra como 0)\n",
    "cons_muj_con_nan = [[cons_muj_con_cero[i][n] if cons_muj_con_cero[i][n] != 0 else np.nan for n in range(num_personas[i])] \n",
    "                    for i in range(d)] # convierto el consumo de los hombres a np.nan para ignorarlo al sacar la media\n",
    "cons_prom_muj = np.array(list(map(lambda x: np.array(x)[~ np.isnan(x)].mean(), cons_muj_con_nan))).mean()\n",
    "print(\"El consumo promedio de las mujeres en los 5 días sería de \" + str(cons_prom_muj) + \" pesos diarios.\")\n",
    "cons_suma_muj = np.array(list(map(lambda x: np.array(x)[~ np.isnan(x)].sum(), cons_muj_con_nan))).sum()\n",
    "                # lo que sería equivalente a todos los ingresos que vienen de las mujeres\n",
    "print(\"El consumo total acumulado de todas las mujeres en los 5 días sería de \" + str(cons_suma_muj) + \" pesos.\")\n",
    "dias_al_reves = [np.array([0 if dias[i][n] == 1 else 1 for n in range(num_personas[i])]) for i in range(d)]\n",
    "              # switchear las mujeres por los hombres para poder ponerle \"1\" a los hombres y multiplicar correctamente\n",
    "cons_hom_con_cero = np.array(dias_al_reves, dtype = object) * np.array(consumos, dtype = object) \n",
    "                    # únicamente el consumo de los hombres para poder sacar el promedio (el de las mujeres se muestra como 0)\n",
    "cons_hom_con_nan = [[cons_hom_con_cero[i][n] if cons_hom_con_cero[i][n] != 0 else np.nan for n in range(num_personas[i])] \n",
    "                    for i in range(d)] # convierto el consumo de las mujeres a np.nan para ignorarlo al sacar la media\n",
    "cons_prom_hom = np.array(list(map(lambda x: np.array(x)[~ np.isnan(x)].mean(), cons_hom_con_nan))).mean()\n",
    "print(\"El consumo promedio de los hombres en los 5 días sería de \" + str(cons_prom_hom) + \" pesos diarios.\")\n",
    "cons_suma_hom = np.array(list(map(lambda x: np.array(x)[~ np.isnan(x)].sum(), cons_hom_con_nan))).sum()\n",
    "                # lo que sería equivalente a todos los ingresos que vienen de los hombres\n",
    "print(\"El consumo total acumulado de todas los hombres en los 5 días sería de \" + str(cons_suma_hom) + \" pesos.\")"
   ]
  },
  {
   "cell_type": "code",
   "execution_count": 36,
   "metadata": {},
   "outputs": [
    {
     "name": "stdout",
     "output_type": "stream",
     "text": [
      "El ingreso promedio de la cafetería en los 5 días sería de 9790.712126684677 pesos diarios.\n",
      "Con una rentabilidad del 60%, la rentabilidad promedio de esos 5 días sería de 5874.427276010806 pesos diarios.\n"
     ]
    }
   ],
   "source": [
    "ingreso_prom = np.array(list(map(lambda x: np.array(x).sum(), consumos))).mean()\n",
    "               # primero calculo los ingresos por día, y luego saco el promedio de todos esos ingresos\n",
    "print(\"El ingreso promedio de la cafetería en los 5 días sería de \" + str(ingreso_prom) + \" pesos diarios.\")\n",
    "print(\"Con una rentabilidad del 60%, la rentabilidad promedio de esos 5 días sería de \" + str(ingreso_prom * 0.6) + \n",
    "      \" pesos diarios.\")"
   ]
  },
  {
   "cell_type": "code",
   "execution_count": 37,
   "metadata": {},
   "outputs": [
    {
     "data": {
      "image/png": "[encoded data removed]",
      "text/plain": [
       "<Figure size 720x360 with 1 Axes>"
      ]
     },
     "metadata": {},
     "output_type": "display_data"
    }
   ],
   "source": [
    "import matplotlib.pyplot as plt\n",
    "import seaborn as sns; sns.set()\n",
    "plt.figure(figsize = (10, 5))\n",
    "plt.hist(C_hombre.T[4], bins = (1 + int(np.log2(len(C_hombre.T[4])))), color = \"c\") # en el día 5\n",
    "         # regla de Sturges para sacar el número de clases óptimo\n",
    "plt.xlabel(\"Clases\", fontsize = 12)\n",
    "plt.ylabel(\"Frecuencia absoluta\", fontsize = 12)\n",
    "plt.title(\"Histograma del consumo de 1000 hombres en un día\", fontsize = 20)\n",
    "plt.grid(color = \"#95a5a6\", linestyle='--', linewidth = 1.5, axis = \"y\", alpha = 0.7)\n",
    "plt.show() \n",
    "# la gráfica demuestra que sí es una distribución uniforme, se podría hacer \n",
    "# con cualquier otra distribución desarrollada en este ejercicio"
   ]
  },
  {
   "cell_type": "markdown",
   "metadata": {},
   "source": [
    "#### Markdown"
   ]
  },
  {
   "attachments": {
    "image-2.png": {
     "image/png": "[encoded data removed]"
    }
   },
   "cell_type": "markdown",
   "metadata": {},
   "source": [
    "Los **pasos** para resolver este ejercicio fueron los siguientes: \n",
    "- Primero **se desarrollaron las distribuciones uniformes** correspondientes al consumo de cada uno de los géneros y al tiempo en que estos fueron atendidos. \n",
    "- Después, **se creó una fila de $1000$ (escenarios) mujeres y hombres** generada aleatoriamente con las probabilidades proporcionadas (hay $49\\%$ de probabilidad de que la persona sea mujer y $51\\%$ de que sea hombre). \n",
    "- **Cada fila se generó 5 veces**, pues es la fecha futura para la cual se debía de hacer la simulación. \n",
    "- Después de eso, **se calculó cuántas personas**, de las que estaban formadas, **alcanzaría a atender la cafetería** antes de cerrar sus puertas. \n",
    "- A estas filas reducidas conformadas únicamente de las personas que alcanzarían a ser atendidas, **se les aplicó finalmente la distribución uniforme** dependiendo de si la persona que seguía de atender era hombre y mujer.\n",
    "- Finalmente, **se hicieron los cálculos** correspondientes dependiendo de si se preguntaba algo relacionado con el consumo o con el tiempo en ser atendidos; y tanto si se trataba de un estadístico por día (ej., el promedio de atención en cada uno de los cinco días, que regresa un array-like), o uno global (ej., el promedio de atención diario para los 5 días, que regresa un integer).\n",
    "\n",
    "Todas las **preguntas** concretas planteadas en el ejercicio se respondieron con unos `print()` en el código anterior, pero igualmente se responden a continuación:\n",
    "1. ¿Cuáles fueron los gastos de los hombres y las mujeres en $5$ días de trabajo?\n",
    "```\n",
    "El consumo total acumulado de todas las mujeres en los 5 días sería de 27640.883526454185 pesos.\n",
    "```\n",
    "```\n",
    "El consumo total acumulado de todas los hombres en los 5 días sería de 21312.6771069692 pesos.\n",
    "```\n",
    "2. ¿Cuál fue el consumo promedio de los hombres y mujeres?\n",
    "```\n",
    "El consumo promedio de las mujeres en los 5 días sería de 65.47776471731973 pesos diarios.\n",
    "```\n",
    "```\n",
    "El consumo promedio de los hombres en los 5 días sería de 50.43628365517978 pesos diarios.\n",
    "```\n",
    "3. ¿Cuál fue el número de personas atendidas por día?\n",
    "```\n",
    "La cantidad de personas atendidas (hombre o mujer) en cada uno de los días son las siguientes [178, 169, 164, 160, 176]\n",
    "```\n",
    "4. ¿Cuál fue el tiempo de atención promedio?\n",
    "```\n",
    "El tiempo de atención promedio (tanto para hombres como mujeres) de los 5 días fue de 148.56574803547173 seg. por persona.\n",
    "```\n",
    "5. ¿Cuánto fue la ganancia promedio de la cafetería en $5$ días de trabajo y su respectiva rentabilidad?\n",
    "```\n",
    "El ingreso promedio de la cafetería en los 5 días sería de 9790.712126684677 pesos diarios.\n",
    "```\n",
    "```\n",
    "Con una rentabilidad del 60%, la rentabilidad promedio de esos 5 días sería de 5874.427276010806 pesos diarios.\n",
    "```\n",
    "\n",
    "De manera extra, se realizó un **histograma** del consumo de $1000$ (escenarios) hombres por $5$ días, es decir, $5000$ hombres en total, el cual desmostró que esta distribución uniforme y también presuntamente todas las demás desarrolladas en este ejercicio, en efecto tienen una **distribución uniforme**.\n",
    "![image-2.png](attachment:image-2.png)"
   ]
  }
 ],
 "metadata": {
  "kernelspec": {
   "display_name": "Python 3",
   "language": "python",
   "name": "python3"
  },
  "language_info": {
   "codemirror_mode": {
    "name": "ipython",
    "version": 3
   },
   "file_extension": ".py",
   "mimetype": "text/x-python",
   "name": "python",
   "nbconvert_exporter": "python",
   "pygments_lexer": "ipython3",
   "version": "3.8.5"
  }
 },
 "nbformat": 4,
 "nbformat_minor": 4
}
