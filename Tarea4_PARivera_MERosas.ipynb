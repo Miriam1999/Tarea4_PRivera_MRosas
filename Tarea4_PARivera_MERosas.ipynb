{
 "cells": [
  {
   "cell_type": "markdown",
   "metadata": {},
   "source": [
    "<img style=\"float: left; margin: 30px 15px 15px 15px;\" src=\"https://pngimage.net/wp-content/uploads/2018/06/logo-iteso-png-5.png\" width=\"300\" height=\"500\" /> \n",
    "    \n",
    "    \n",
    "### <font color='navy'> Simulación de procesos financieros. \n",
    "\n",
    "**Nombres:** Pablo Alejandro Rivera Sánchez y Miriam Eunice Rosas Medellín.\n",
    "\n",
    "**Fecha:** 22 de febrero del 2021.\n",
    "\n",
    "**Expediente** : 721005 y 721278.\n",
    "**Profesor:** Oscar David Jaramillo Zuluaga.\n",
    "\n",
    "# Tarea 4: Clase 7\n",
    "**Link al repositorio en Github**: https://github.com/Miriam1999/Tarea4_PRivera_MRosas"
   ]
  },
  {
   "cell_type": "markdown",
   "metadata": {},
   "source": [
    "## Ejercicio 1"
   ]
  },
  {
   "cell_type": "markdown",
   "metadata": {},
   "source": [
    "Como ejemplo simple de una simulación de Monte Carlo, considere calcular la probabilidad de una suma particular del lanzamiento de tres dados (cada dado tiene valores del uno al seis). Además cada dado tiene las siguientes carácterísticas: el primer dado no está cargado (distribución uniforme todos son equiprobables); el segundo y tercer dado están cargados basados en una distribución binomial con parámetros (`n = 5, p = 0.5` y `n = 5, p = 0.2`). Calcule la probabilidad de que la suma resultante sea 7, 14 o 18. "
   ]
  },
  {
   "cell_type": "markdown",
   "metadata": {},
   "source": [
    "### Solución de Pablo"
   ]
  },
  {
   "cell_type": "markdown",
   "metadata": {},
   "source": [
    "#### Código"
   ]
  },
  {
   "cell_type": "code",
   "execution_count": null,
   "metadata": {},
   "outputs": [],
   "source": []
  },
  {
   "cell_type": "markdown",
   "metadata": {},
   "source": [
    "#### Markdown"
   ]
  },
  {
   "cell_type": "markdown",
   "metadata": {},
   "source": []
  },
  {
   "cell_type": "markdown",
   "metadata": {},
   "source": [
    "### Solución de Miriam"
   ]
  },
  {
   "cell_type": "markdown",
   "metadata": {},
   "source": [
    "#### Código"
   ]
  },
  {
   "cell_type": "code",
   "execution_count": 1,
   "metadata": {},
   "outputs": [
    {
     "name": "stdout",
     "output_type": "stream",
     "text": [
      "La probabilidad de que la suma sea 7 es 0.12712.\n",
      "La probabilidad de que la suma sea 14 es 0.01359.\n",
      "La probabilidad de que la suma sea 18 es 0.0.\n"
     ]
    }
   ],
   "source": [
    "import numpy as np\n",
    "import scipy.stats as st\n",
    "np.random.seed(123)\n",
    "dado1 = np.random.randint(1, 7, 100000)\n",
    "dado2 = st.binom(n = 5, p = 0.5, loc = 1).rvs(size = 100000)\n",
    "dado3 = st.binom(n = 5, p = 0.2, loc = 1).rvs(size = 100000)\n",
    "suma = dado1 + dado2 + dado3 # arreglo de las sumas de 100,000 (cien mil) tiradas\n",
    "proba7 = len(suma[suma == 7]) / len(suma)\n",
    "proba14 = len(suma[suma == 14]) / len(suma)\n",
    "proba18 = len(suma[suma== 18]) / len(suma)\n",
    "print(\"La probabilidad de que la suma sea 7 es \" + str(proba7) + \".\")\n",
    "print(\"La probabilidad de que la suma sea 14 es \" + str(proba14) + \".\")\n",
    "print(\"La probabilidad de que la suma sea 18 es \" + str(proba18) + \".\")"
   ]
  },
  {
   "cell_type": "markdown",
   "metadata": {},
   "source": [
    "#### Markdown"
   ]
  },
  {
   "cell_type": "markdown",
   "metadata": {},
   "source": [
    "Si se utiliza la semilla 123 para generar los resultados aleatorios de los dados (el primero con distribución uniforme y los siguientes con distribución binomial), y se tiran 100,000 veces, la probabilidad de las sumas son las siguientes:\n",
    "1. La probabilidad de que la suma sea 7 es $12.71\\%$.\n",
    "2. La probabilidad de que la suma sea 14 es $1.36\\%$.\n",
    "3. La probabilidad de que la suma sea 18 es $0\\%$."
   ]
  },
  {
   "cell_type": "markdown",
   "metadata": {},
   "source": [
    "## Ejercicio 2"
   ]
  },
  {
   "cell_type": "markdown",
   "metadata": {},
   "source": [
    "##### Ejercicio de aplicación - Cafetería Central\n",
    "\n",
    "Premisas para la simulación:\n",
    "- Negocio de alimentos que vende bebidas y alimentos.\n",
    "- Negocio dentro del ITESO.\n",
    "- Negocio en cafetería central.\n",
    "- Tipo de clientes (hombres y mujeres).\n",
    "- Rentabilidad del 60%.\n",
    "\n",
    "##### Objetivo\n",
    "Realizar una simulación estimando el tiempo medio que se tardarán los clientes en ser atendidos entre el horario de 6:30 am a 1:30 pm. Además saber el consumo. \n",
    "**Analizar supuestos y limitantes**"
   ]
  },
  {
   "cell_type": "markdown",
   "metadata": {},
   "source": [
    "##### Supuestos en simulación\n",
    "Clasificación de clientes: \n",
    "- Mujer  = 1 $\\longrightarrow$ aleatorio < 0.5\n",
    "- Hombre = 0 $\\longrightarrow$ aleatorio $\\geq$ 0.5.\n",
    "\n",
    "Condiciones iniciales:\n",
    "- Todas las distrubuciones de probabilidad se supondrán uniformes.\n",
    "- Tiempo de simulación: 6:30 am - 1:30 pm $\\longrightarrow$ T = 7 horas = 25200 seg.\n",
    "- Tiempo de llegada hasta ser atendido: Min = 5 seg., Max = 30 seg.\n",
    "- Tiempo que tardan los clientes en ser atendidos:\n",
    "    - Mujer: Min = 1 min. = 60 seg., Max = 5 min. = 300 seg.\n",
    "    - Hombre: Min = 40 seg. , Max = 2 min. = 120 seg.\n",
    "- Consumo según el tipo de cliente:\n",
    "    - Mujer: Min = 30 pesos, Max = 100 pesos\n",
    "    - Hombre: Min = 20 pesos, Max = 80 pesos\n",
    "\n",
    "Responder las siguientes preguntas basados en los datos del problema:\n",
    "1. ¿Cuáles fueron los gastos de los hombres y las mujeres en 5 días de trabajo?\n",
    "2. ¿Cuál fue el consumo promedio de los hombres y mujeres?\n",
    "3. ¿Cuál fue el número de personas atendidas por día?\n",
    "4. ¿Cuál fue el tiempo de atención promedio?\n",
    "5. ¿Cuánto fue la ganancia promedio de la cafetería en 5 días de trabajo y su respectiva rentabilidad?"
   ]
  },
  {
   "cell_type": "code",
   "execution_count": 2,
   "metadata": {},
   "outputs": [],
   "source": [
    "# Datos del problema\n",
    "d = 5\n",
    "T = 25200\n",
    "T_at_min = 5; T_at_max = 30\n",
    "T_mujer_min = 60; T_mujer_max = 300\n",
    "T_hombre_min = 40; T_hombre_max = 120\n",
    "C_mujer_min = 30; C_mujer_max = 100\n",
    "C_hombre_min = 20; C_hombre_max = 80"
   ]
  },
  {
   "cell_type": "markdown",
   "metadata": {},
   "source": [
    "### Solución de Pablo"
   ]
  },
  {
   "cell_type": "markdown",
   "metadata": {},
   "source": [
    "#### Código"
   ]
  },
  {
   "cell_type": "code",
   "execution_count": null,
   "metadata": {},
   "outputs": [],
   "source": []
  },
  {
   "cell_type": "markdown",
   "metadata": {},
   "source": [
    "#### Markdown"
   ]
  },
  {
   "cell_type": "markdown",
   "metadata": {},
   "source": []
  },
  {
   "cell_type": "markdown",
   "metadata": {},
   "source": [
    "### Solución de Miriam"
   ]
  },
  {
   "cell_type": "markdown",
   "metadata": {},
   "source": [
    "#### Código"
   ]
  },
  {
   "cell_type": "code",
   "execution_count": 3,
   "metadata": {},
   "outputs": [],
   "source": [
    "np.random.seed(123) # semilla\n",
    "escenarios = 1000 # escenarios (en este caso, un escenario será una persona)\n",
    "personas_d_dias = [np.random.choice([1, 0], escenarios, p = [0.49, 0.51]) for i in range(d)] # 1000 personas por día (default)\n",
    "C_mujer = st.uniform(loc = C_mujer_min, scale = C_mujer_max - C_mujer_min).rvs(size = [escenarios, d], random_state = 123)\n",
    "          # distribución uniforme del consumo de las mujeres\n",
    "C_hombre = st.uniform(loc = C_hombre_min, scale = C_hombre_max - C_hombre_min).rvs(size = [escenarios, d], random_state = 123)\n",
    "           # distribución uniforme del consumo de los hombres\n",
    "T_at_mujer_min = T_at_min + T_mujer_min # tiempo mínimo total en el que se atiende a una mujer\n",
    "T_at_mujer_max = T_at_max + T_mujer_max # tiempo máximo total en el que se atiende a una mujer\n",
    "T_at_hombre_min = T_at_min + T_hombre_min # tiempo mínimo total en el que se atiende a un hombre\n",
    "T_at_hombre_max = T_at_max + T_hombre_max # tiempo máximo total en el que se atiende a un hombre\n",
    "T_mujer = st.uniform(loc = T_at_mujer_min, scale = T_at_mujer_max - T_at_mujer_min).rvs(size = [escenarios, d], \n",
    "          random_state = 123) # distribución uniforme del tiempo en el cual se atiende a una mujer\n",
    "T_hombre = st.uniform(loc = T_at_hombre_min, scale = T_at_hombre_max - T_at_hombre_min).rvs(size = [escenarios, d],\n",
    "           random_state = 123) # distribución unidorme del tiempo en el cual se atiende a un hombre\n",
    "tiempos = [[T_hombre.T[i][n] if personas_d_dias[i][n] == 0 else T_mujer.T[i][n] for n in range(escenarios)] for i in range(d)]\n",
    "          # tiempo en el cual cada una de las 1000 personas es atendida conforme llega, para los 5 días\n",
    "binary_personas = [[\"person\" if np.array(tiempos)[i].cumsum()[n] <= T else None for i in range(d)] for n in range(escenarios)]\n",
    "                  # se agrega \"person\" si dicha persona alcanza a ser atendida dentro del límite de tiempo"
   ]
  },
  {
   "cell_type": "code",
   "execution_count": 4,
   "metadata": {},
   "outputs": [
    {
     "name": "stdout",
     "output_type": "stream",
     "text": [
      "La cantidad de personas atendidas (hombre o mujer) en cada uno de los días son las siguientes [179, 171, 166, 162, 176]\n",
      "El tiempo de atención promedio (tanto para hombres como mujeres) de los 5 días fue de 147.42764970887256 seg. por persona.\n"
     ]
    }
   ],
   "source": [
    "num_personas = [list(np.array(binary_personas).T[i]).count(\"person\") for i in range(d)]\n",
    "print(\"La cantidad de personas atendidas (hombre o mujer) en cada uno de los días son las siguientes\", num_personas)\n",
    "dia1 = personas_d_dias[0][:num_personas[0]] # personas atendidas en el día 1 (con 0s y 1s), ya tomando en cuenta el tiempo\n",
    "dia2 = personas_d_dias[1][:num_personas[1]] # personas atendidas en el día 2 (con 0s y 1s), ya tomando en cuenta el tiempo\n",
    "dia3 = personas_d_dias[2][:num_personas[2]] # personas atendidas en el día 3 (con 0s y 1s), ya tomando en cuenta el tiempo\n",
    "dia4 = personas_d_dias[3][:num_personas[3]] # personas atendidas en el día 4 (con 0s y 1s), ya tomando en cuenta el tiempo\n",
    "dia5 = personas_d_dias[4][:num_personas[4]] # personas atendidas en el día 5 (con 0s y 1s), ya tomando en cuenta el tiempo\n",
    "dias = [dia1, dia2, dia3, dia4, dia5] # lista de litas de las personas atendidas por día\n",
    "tiempos2 = [[T_hombre.T[i][n] if dias[i][n] == 0 else T_mujer.T[i][n] for n in range(num_personas[i])] for i in range(d)]\n",
    "           # tiempo en el cual cada una de las personas es atendida conforme llega (ya tomando en cuenta cuales alcanzan)\n",
    "tiempo_prom = np.array(list(map(lambda x: np.array(x).mean(), tiempos2))).mean()\n",
    "              # primero calculo el promedio por día, y luego saco el promedio de todos los días\n",
    "print(\"El tiempo de atención promedio (tanto para hombres como mujeres) de los 5 días fue de \" + str(tiempo_prom) + \n",
    "      \" seg. por persona.\")"
   ]
  },
  {
   "cell_type": "code",
   "execution_count": 5,
   "metadata": {},
   "outputs": [
    {
     "name": "stdout",
     "output_type": "stream",
     "text": [
      "El consumo promedio de las mujeres en los 5 días sería de 65.28040804222753 pesos diarios.\n",
      "El consumo total acumulado de todas las mujeres en los 5 días sería de 27233.260603210292 pesos.\n",
      "El consumo promedio de los hombres en los 5 días sería de 50.71432849038489 pesos diarios.\n",
      "El consumo total acumulado de todas los hombres en los 5 días sería de 22045.26148487703 pesos.\n"
     ]
    }
   ],
   "source": [
    "consumos = [[C_hombre.T[i][n] if dias[i][n] == 0 else C_mujer.T[i][n] for n in range(num_personas[i])] for i in range(d)]\n",
    "           # consumo de cada una de las personas que alcanzaron a ser atendidas en cada uno de los 5 días\n",
    "cons_muj_con_cero = np.array(dias, dtype = object) * np.array(consumos, dtype = object) \n",
    "                    # únicamente el consumo de las mujeres para poder sacar el promedio (el de los hombres se muestra como 0)\n",
    "cons_muj_con_nan = [[cons_muj_con_cero[i][n] if cons_muj_con_cero[i][n] != 0 else np.nan for n in range(num_personas[i])] \n",
    "                    for i in range(d)] # convierto el consumo de los hombres a np.nan para ignorarlo al sacar la media\n",
    "cons_prom_muj = np.array(list(map(lambda x: np.array(x)[~ np.isnan(x)].mean(), cons_muj_con_nan))).mean()\n",
    "print(\"El consumo promedio de las mujeres en los 5 días sería de \" + str(cons_prom_muj) + \" pesos diarios.\")\n",
    "cons_suma_muj = np.array(list(map(lambda x: np.array(x)[~ np.isnan(x)].sum(), cons_muj_con_nan))).sum()\n",
    "                # lo que sería equivalente a todos los ingresos que vienen de las mujeres\n",
    "print(\"El consumo total acumulado de todas las mujeres en los 5 días sería de \" + str(cons_suma_muj) + \" pesos.\")\n",
    "dias_al_reves = [np.array([0 if dias[i][n] == 1 else 1 for n in range(num_personas[i])]) for i in range(d)]\n",
    "              # switchear las mujeres por los hombres para poder ponerle \"1\" a los hombres y multiplicar correctamente\n",
    "cons_hom_con_cero = np.array(dias_al_reves, dtype = object) * np.array(consumos, dtype = object) \n",
    "                    # únicamente el consumo de los hombres para poder sacar el promedio (el de las mujeres se muestra como 0)\n",
    "cons_hom_con_nan = [[cons_hom_con_cero[i][n] if cons_hom_con_cero[i][n] != 0 else np.nan for n in range(num_personas[i])] \n",
    "                    for i in range(d)] # convierto el consumo de las mujeres a np.nan para ignorarlo al sacar la media\n",
    "cons_prom_hom = np.array(list(map(lambda x: np.array(x)[~ np.isnan(x)].mean(), cons_hom_con_nan))).mean()\n",
    "print(\"El consumo promedio de los hombres en los 5 días sería de \" + str(cons_prom_hom) + \" pesos diarios.\")\n",
    "cons_suma_hom = np.array(list(map(lambda x: np.array(x)[~ np.isnan(x)].sum(), cons_hom_con_nan))).sum()\n",
    "                # lo que sería equivalente a todos los ingresos que vienen de los hombres\n",
    "print(\"El consumo total acumulado de todas los hombres en los 5 días sería de \" + str(cons_suma_hom) + \" pesos.\")"
   ]
  },
  {
   "cell_type": "code",
   "execution_count": 6,
   "metadata": {},
   "outputs": [
    {
     "name": "stdout",
     "output_type": "stream",
     "text": [
      "El ingreso promedio de la cafetería en los 5 días sería de 9855.704417617464 pesos diarios.\n",
      "Con una rentabilidad del 60%, la rentabilidad promedio de esos 5 días sería de 5913.422650570478 pesos diarios.\n"
     ]
    }
   ],
   "source": [
    "ingreso_prom = np.array(list(map(lambda x: np.array(x).sum(), consumos))).mean()\n",
    "               # primero calculo los ingresos por día, y luego saco el promedio de todos esos ingresos\n",
    "print(\"El ingreso promedio de la cafetería en los 5 días sería de \" + str(ingreso_prom) + \" pesos diarios.\")\n",
    "print(\"Con una rentabilidad del 60%, la rentabilidad promedio de esos 5 días sería de \" + str(ingreso_prom * 0.6) + \n",
    "      \" pesos diarios.\")"
   ]
  },
  {
   "cell_type": "code",
   "execution_count": 7,
   "metadata": {},
   "outputs": [
    {
     "data": {
      "image/png": "[encoded data removed]",
      "text/plain": [
       "<Figure size 720x360 with 1 Axes>"
      ]
     },
     "metadata": {},
     "output_type": "display_data"
    }
   ],
   "source": [
    "import matplotlib.pyplot as plt\n",
    "import seaborn as sns; sns.set()\n",
    "plt.figure(figsize = (10, 5))\n",
    "plt.hist(C_hombre.T[4], bins = (1 + int(np.log2(len(C_hombre.T[4])))), color = \"c\") # regla para sacar el número de clases óptimo\n",
    "plt.xlabel(\"Clases\", fontsize = 12)\n",
    "plt.ylabel(\"Frecuencia absoluta\", fontsize = 12)\n",
    "plt.title(\"Histograma del consumo de 1000 hombres en un día\", fontsize = 20)\n",
    "plt.grid(color = \"#95a5a6\", linestyle='--', linewidth = 1.5, axis = \"y\", alpha = 0.7)\n",
    "plt.show() \n",
    "# la gráfica demuestra que sí es una distribución uniforme, se podría hacer \n",
    "# con cualquier otra distribución desarrollada en esta ejercicio"
   ]
  },
  {
   "cell_type": "markdown",
   "metadata": {},
   "source": [
    "#### Markdown"
   ]
  },
  {
   "attachments": {
    "image.png": {
     "image/png": "[encoded data removed]"
    }
   },
   "cell_type": "markdown",
   "metadata": {},
   "source": [
    "Los **pasos** para resolver este ejercicio fueron los siguientes: \n",
    "- Primero **se desarrollaron las distribuciones uniformes** correspondientes al consumo de cada uno de los géneros y al tiempo en que estos fueron atendidos. \n",
    "- Después, **se creó una fila de $1000$ (escenarios) mujeres y hombres** generada aleatoriamente con las probabilidades proporcionadas (hay $49\\%$ de probabilidad de que la persona sea mujer y $51\\%$ de que sea hombre). \n",
    "- **Cada fila se generó 5 veces**, pues es la fecha futura para la cual se debía de hacer la simulación. \n",
    "- Después de eso, **se calculó cuántas personas**, de las que estaban formadas, **alcanzaría a atender la cafetería** antes de cerrar sus puertas. \n",
    "- A estas filas reducidas conformadas únicamente de las personas que alcanzarían a ser atendidas, **se les aplicó finalmente la distribución uniforme** dependiendo de si la persona que seguía de atender era hombre y mujer.\n",
    "- Finalmente, **se hicieron los cálculos** correspondientes dependiendo de si se preguntaba algo relacionado con el consumo o con el tiempo en ser atendidos; y tanto si se trataba de un estadístico por día (ej., el promedio de atención en cada uno de los cinco días, que regresa un array-like), o uno global (ej., el promedio de atención diario para los 5 días, que regresa un integer).\n",
    "\n",
    "Todas las **preguntas** concretas planteadas en el ejercicio se respondieron con unos `print()` en el código anterior, pero igualmente se responden a continuación:\n",
    "1. ¿Cuáles fueron los gastos de los hombres y las mujeres en $5$ días de trabajo?\n",
    "```\n",
    "El consumo total acumulado de todas las mujeres en los 5 días sería de 27233.260603210292 pesos.\n",
    "```\n",
    "```\n",
    "El consumo total acumulado de todas los hombres en los 5 días sería de 22045.26148487703 pesos.\n",
    "```\n",
    "2. ¿Cuál fue el consumo promedio de los hombres y mujeres?\n",
    "```\n",
    "El consumo promedio de las mujeres en los 5 días sería de 65.28040804222753 pesos diarios.\n",
    "```\n",
    "```\n",
    "El consumo promedio de los hombres en los 5 días sería de 50.71432849038489 pesos diarios.\n",
    "```\n",
    "3. ¿Cuál fue el número de personas atendidas por día?\n",
    "```\n",
    "La cantidad de personas atendidas (hombre o mujer) en cada uno de los días son las siguientes [179, 171, 166, 162, 176]\n",
    "```\n",
    "4. ¿Cuál fue el tiempo de atención promedio?\n",
    "```\n",
    "El tiempo de atención promedio (tanto para hombres como mujeres) de los 5 días fue de 147.42764970887256 seg. por persona.\n",
    "```\n",
    "5. ¿Cuánto fue la ganancia promedio de la cafetería en $5$ días de trabajo y su respectiva rentabilidad?\n",
    "```\n",
    "El ingreso promedio de la cafetería en los 5 días sería de 9855.704417617464 pesos diarios.\n",
    "```\n",
    "```\n",
    "Con una rentabilidad del 60%, la rentabilidad promedio de esos 5 días sería de 5913.422650570478 pesos diarios.\n",
    "```\n",
    "\n",
    "De manera extra, se realizó un **histograma** del consumo de $1000$ (escenarios) hombres por $5$ días, es decir, $5000$ hombres en total, el cual desmostró que esta distribución uniforme y también presuntamente todas las demás desarrolladas en este ejercicio, en efecto tienen una **distribución uniforme**.\n",
    "![image.png](attachment:image.png)"
   ]
  }
 ],
 "metadata": {
  "kernelspec": {
   "display_name": "Python 3",
   "language": "python",
   "name": "python3"
  },
  "language_info": {
   "codemirror_mode": {
    "name": "ipython",
    "version": 3
   },
   "file_extension": ".py",
   "mimetype": "text/x-python",
   "name": "python",
   "nbconvert_exporter": "python",
   "pygments_lexer": "ipython3",
   "version": "3.8.5"
  }
 },
 "nbformat": 4,
 "nbformat_minor": 4
}
