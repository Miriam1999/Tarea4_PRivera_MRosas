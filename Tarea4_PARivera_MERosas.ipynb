{
 "cells": [
  {
   "cell_type": "markdown",
   "metadata": {},
   "source": [
    "<img style=\"float: left; margin: 30px 15px 15px 15px;\" src=\"https://pngimage.net/wp-content/uploads/2018/06/logo-iteso-png-5.png\" width=\"300\" height=\"500\" /> \n",
    "    \n",
    "    \n",
    "### <font color='navy'> Simulación de procesos financieros. \n",
    "\n",
    "**Nombres:** Pablo Alejandro Rivera Sánchez y Miriam Eunice Rosas Medellín.\n",
    "\n",
    "**Fecha:** 22 de febrero del 2021.\n",
    "\n",
    "**Expediente** : 721005 y 721278.\n",
    "**Profesor:** Oscar David Jaramillo Zuluaga.\n",
    "\n",
    "# Tarea 4: Clase 7\n",
    "**Link al repositorio en Github**: https://github.com/pabloriverasnz/Tarea4_PRivera_MRosas"
   ]
  },
  {
   "cell_type": "markdown",
   "metadata": {},
   "source": [
    "## Ejercicio 1"
   ]
  },
  {
   "cell_type": "markdown",
   "metadata": {},
   "source": [
    "Como ejemplo simple de una simulación de Monte Carlo, considere calcular la probabilidad de una suma particular del lanzamiento de tres dados (cada dado tiene valores del uno al seis). Además cada dado tiene las siguientes carácterísticas: el primer dado no está cargado (distribución uniforme todos son equiprobables); el segundo y tercer dado están cargados basados en una distribución binomial con parámetros (`n = 5, p = 0.5` y `n = 5, p = 0.2`). Calcule la probabilidad de que la suma resultante sea 7, 14 o 18. "
   ]
  },
  {
   "cell_type": "markdown",
   "metadata": {},
   "source": [
    "### Solución de Pablo"
   ]
  },
  {
   "cell_type": "markdown",
   "metadata": {},
   "source": [
    "#### Código"
   ]
  },
  {
   "cell_type": "code",
   "execution_count": 1,
   "metadata": {},
   "outputs": [],
   "source": [
    "import numpy as np\n",
    "import matplotlib.pyplot as plt\n",
    "import pandas as pd\n",
    "import os\n",
    "import scipy.stats as st"
   ]
  },
  {
   "cell_type": "code",
   "execution_count": 2,
   "metadata": {},
   "outputs": [],
   "source": [
    "def juegos():\n",
    "    dado_nc = np.random.randint(1, 7, 1)\n",
    "    dado_c1 = st.binom(n = 5, p = 0.5, loc = 1).rvs(size = 1)\n",
    "    dado_c2 = st.binom(n = 5, p = 0.2, loc = 1).rvs(size = 1)\n",
    "    suma = dado_nc + dado_c1 + dado_c2\n",
    "    if suma == 7:\n",
    "        return 1\n",
    "    elif suma == 14:\n",
    "        return 1\n",
    "    elif suma == 18:\n",
    "        return 1\n",
    "    else:\n",
    "        return 0   "
   ]
  },
  {
   "cell_type": "code",
   "execution_count": 3,
   "metadata": {},
   "outputs": [
    {
     "data": {
      "text/plain": [
       "0.14008"
      ]
     },
     "execution_count": 3,
     "metadata": {},
     "output_type": "execute_result"
    }
   ],
   "source": [
    "Nj = 100000\n",
    "prob71418 = sum([juegos() for i in range(Nj)]) / Nj\n",
    "prob71418"
   ]
  },
  {
   "cell_type": "code",
   "execution_count": 4,
   "metadata": {},
   "outputs": [
    {
     "data": {
      "text/plain": [
       "(0.12675, 0.01339, 0.0)"
      ]
     },
     "execution_count": 4,
     "metadata": {},
     "output_type": "execute_result"
    }
   ],
   "source": [
    "N = 100000\n",
    "dado_c1 = st.binom(n = 5, p = 0.5, loc = 1).rvs(size = N)\n",
    "dado_c2 = st.binom(n = 5, p = 0.2, loc = 1).rvs(size = N)\n",
    "dado_nc = np.random.randint(1, 7, N)\n",
    "sm = dado_c1 + dado_c2 + dado_nc\n",
    "sr7 = sum(list(map(lambda x: 1 if x == 7 else 0, sm))) / N\n",
    "sr14 = sum(list(map(lambda x: 1 if x == 14 else 0, sm))) / N\n",
    "sr18 = sum(list(map(lambda x: 1 if x == 18 else 0, sm))) / N\n",
    "\n",
    "sr7, sr14, sr18"
   ]
  },
  {
   "cell_type": "code",
   "execution_count": 5,
   "metadata": {},
   "outputs": [
    {
     "name": "stdout",
     "output_type": "stream",
     "text": [
      "La probabilidad de lanzar estos 3 dados y sacar 7, 14 o 18 (juntos) es de:  0.14008\n",
      "La probabilidad de lanzar estos 3 dados y sacar 7 es de:  0.12675\n",
      "La probabilidad de lanzar estos 3 dados y sacar 14 es de:  0.01339\n",
      "La probabilidad de lanzar estos 3 dados y sacar 18 es de:  0.0\n"
     ]
    }
   ],
   "source": [
    "print('La probabilidad de lanzar estos 3 dados y sacar 7, 14 o 18 (juntos) es de: ', prob71418)\n",
    "print('La probabilidad de lanzar estos 3 dados y sacar 7 es de: ', sr7)\n",
    "print('La probabilidad de lanzar estos 3 dados y sacar 14 es de: ', sr14)\n",
    "print('La probabilidad de lanzar estos 3 dados y sacar 18 es de: ', sr18)"
   ]
  },
  {
   "cell_type": "markdown",
   "metadata": {},
   "source": [
    "#### Markdown"
   ]
  },
  {
   "cell_type": "markdown",
   "metadata": {},
   "source": [
    "Calculé dos probabilidades diferentes ya que no entendí bien cuál pedía el ejercicio. La primera es la probabilidad de que, al lanzar los 3 dados como especifica el problema, se obtenga entre los 3 ya sea un 7, un 14 o un 18. Esto se hizo en una función que simula el juego en el que, si la suma de los 3 dados da algunos de los números nos devuelve 1, al simular el juego varias veces podemos obtener la probabilidad. El segundo de set de probabilidades es la probabilidad individual de obtener cada número (7, 14 y 18), esta se calcula simulando 100000 veces los dados y dentro de la suma encontrar cuántas veces salió el número deseado.\n",
    "\n",
    "Probabilidades:\n",
    "- De 7, 14 o 18: $13.95\\%$\n",
    "- De 7: $12.63\\%$\n",
    "- De 14: $1.36\\%$\n",
    "- De 18: $0\\%$"
   ]
  },
  {
   "cell_type": "markdown",
   "metadata": {},
   "source": [
    "### Solución de Miriam"
   ]
  },
  {
   "cell_type": "markdown",
   "metadata": {},
   "source": [
    "#### Código"
   ]
  },
  {
   "cell_type": "code",
   "execution_count": 6,
   "metadata": {},
   "outputs": [
    {
     "name": "stdout",
     "output_type": "stream",
     "text": [
      "La probabilidad de que la suma sea 7 es 0.12712.\n",
      "La probabilidad de que la suma sea 14 es 0.01359.\n",
      "La probabilidad de que la suma sea 18 es 0.0.\n"
     ]
    }
   ],
   "source": [
    "import numpy as np\n",
    "import scipy.stats as st\n",
    "np.random.seed(123)\n",
    "dado1 = np.random.randint(1, 7, 100000)\n",
    "dado2 = st.binom(n = 5, p = 0.5, loc = 1).rvs(size = 100000)\n",
    "dado3 = st.binom(n = 5, p = 0.2, loc = 1).rvs(size = 100000)\n",
    "suma = dado1 + dado2 + dado3 # arreglo de las sumas de 100,000 (cien mil) tiradas\n",
    "proba7 = len(suma[suma == 7]) / len(suma)\n",
    "proba14 = len(suma[suma == 14]) / len(suma)\n",
    "proba18 = len(suma[suma== 18]) / len(suma)\n",
    "print(\"La probabilidad de que la suma sea 7 es \" + str(proba7) + \".\")\n",
    "print(\"La probabilidad de que la suma sea 14 es \" + str(proba14) + \".\")\n",
    "print(\"La probabilidad de que la suma sea 18 es \" + str(proba18) + \".\")"
   ]
  },
  {
   "cell_type": "markdown",
   "metadata": {},
   "source": [
    "#### Markdown"
   ]
  },
  {
   "cell_type": "markdown",
   "metadata": {},
   "source": [
    "Si se utiliza la semilla 123 para generar los resultados aleatorios de los dados (el primero con distribución uniforme y los siguientes con distribución binomial), y se tiran 100,000 veces, la probabilidad de las sumas son las siguientes:\n",
    "1. La probabilidad de que la suma sea 7 es $12.71\\%$.\n",
    "2. La probabilidad de que la suma sea 14 es $1.36\\%$.\n",
    "3. La probabilidad de que la suma sea 18 es $0\\%$."
   ]
  },
  {
   "cell_type": "markdown",
   "metadata": {},
   "source": [
    "## Ejercicio 2"
   ]
  },
  {
   "cell_type": "markdown",
   "metadata": {},
   "source": [
    "##### Ejercicio de aplicación - Cafetería Central\n",
    "\n",
    "Premisas para la simulación:\n",
    "- Negocio de alimentos que vende bebidas y alimentos.\n",
    "- Negocio dentro del ITESO.\n",
    "- Negocio en cafetería central.\n",
    "- Tipo de clientes (hombres y mujeres).\n",
    "- Rentabilidad del 60%.\n",
    "\n",
    "##### Objetivo\n",
    "Realizar una simulación estimando el tiempo medio que se tardarán los clientes en ser atendidos entre el horario de 6:30 am a 1:30 pm. Además saber el consumo. \n",
    "**Analizar supuestos y limitantes**"
   ]
  },
  {
   "cell_type": "markdown",
   "metadata": {},
   "source": [
    "##### Supuestos en simulación\n",
    "Clasificación de clientes: \n",
    "- Mujer  = 1 $\\longrightarrow$ aleatorio < 0.5\n",
    "- Hombre = 0 $\\longrightarrow$ aleatorio $\\geq$ 0.5.\n",
    "\n",
    "Condiciones iniciales:\n",
    "- Todas las distrubuciones de probabilidad se supondrán uniformes.\n",
    "- Tiempo de simulación: 6:30 am - 1:30 pm $\\longrightarrow$ T = 7 horas = 25200 seg.\n",
    "- Tiempo de llegada hasta ser atendido: Min = 5 seg., Max = 30 seg.\n",
    "- Tiempo que tardan los clientes en ser atendidos:\n",
    "    - Mujer: Min = 1 min. = 60 seg., Max = 5 min. = 300 seg.\n",
    "    - Hombre: Min = 40 seg. , Max = 2 min. = 120 seg.\n",
    "- Consumo según el tipo de cliente:\n",
    "    - Mujer: Min = 30 pesos, Max = 100 pesos\n",
    "    - Hombre: Min = 20 pesos, Max = 80 pesos\n",
    "\n",
    "Responder las siguientes preguntas basados en los datos del problema:\n",
    "1. ¿Cuáles fueron los gastos de los hombres y las mujeres en 5 días de trabajo?\n",
    "2. ¿Cuál fue el consumo promedio de los hombres y mujeres?\n",
    "3. ¿Cuál fue el número de personas atendidas por día?\n",
    "4. ¿Cuál fue el tiempo de atención promedio?\n",
    "5. ¿Cuánto fue la ganancia promedio de la cafetería en 5 días de trabajo y su respectiva rentabilidad?"
   ]
  },
  {
   "cell_type": "code",
   "execution_count": 7,
   "metadata": {},
   "outputs": [],
   "source": [
    "# Datos del problema\n",
    "d = 5\n",
    "T = 25200\n",
    "T_at_min = 5; T_at_max = 30\n",
    "T_mujer_min = 60; T_mujer_max = 300\n",
    "T_hombre_min = 40; T_hombre_max = 120\n",
    "C_mujer_min = 30; C_mujer_max = 100\n",
    "C_hombre_min = 20; C_hombre_max = 80"
   ]
  },
  {
   "cell_type": "markdown",
   "metadata": {},
   "source": [
    "### Solución de Pablo"
   ]
  },
  {
   "cell_type": "markdown",
   "metadata": {},
   "source": [
    "#### Código"
   ]
  },
  {
   "cell_type": "code",
   "execution_count": 8,
   "metadata": {},
   "outputs": [],
   "source": [
    "# Generamos variables aleatorias uniformes entre 1 y 0, 1000 clientes por 5 días.\n",
    "N_clientes = 1000\n",
    "clientesx = st.uniform(loc = 0, scale = 1).rvs(size = [N_clientes , d])"
   ]
  },
  {
   "cell_type": "code",
   "execution_count": 9,
   "metadata": {},
   "outputs": [],
   "source": [
    "# Convertimos las variables entre 1 y 0 a ceros y unos para diferenciar el sexo de la persona.\n",
    "clientes_t = [[1 if clientesx[i,j] < 0.5 else 0 for j in range(clientesx.shape[1])] for i in range(len(clientesx))]\n",
    "\n",
    "# Esta variable simplemente contiene el total de clientes por los 5 días\n",
    "clientes_totales = [[1 if clientesx[i,j] < 0.5 else 1 for j in range(clientesx.shape[1])] for i in range(len(clientesx))]"
   ]
  },
  {
   "cell_type": "code",
   "execution_count": 10,
   "metadata": {},
   "outputs": [],
   "source": [
    "# Calculamos el tiempo de llegada hasta ser atendido con su distribución para el número de clientes y los días.\n",
    "t_llegada = st.uniform(loc = T_at_min, scale = T_at_max - T_at_min).rvs(size = [N_clientes, d])\n",
    "\n",
    "# Multiplicamos los clientes totales por el tiempo de llegada\n",
    "# Independientemente de si la persona es hombre o mujer, habrá un tiempo de espera para cada cliente.\n",
    "t1 = clientes_totales * t_llegada"
   ]
  },
  {
   "cell_type": "code",
   "execution_count": 11,
   "metadata": {},
   "outputs": [],
   "source": [
    "# Generamos la variable aleatoria del tiempo en el que las mujeres serán atendidas.\n",
    "t_atend_m = st.uniform(loc = T_mujer_min, scale = T_mujer_max - T_mujer_min).rvs(size = [N_clientes, d])"
   ]
  },
  {
   "cell_type": "code",
   "execution_count": 12,
   "metadata": {},
   "outputs": [],
   "source": [
    "# Multiplicamos la lista de clientes, que identifica a las mujeres con el número 1\n",
    "# con el tiempo en que se tardaron en atender a las mujeres\n",
    "# esto genera una nueva variable en donde solo toman valores las mujeres (1)\n",
    "t_atend_m_c = clientes_t * t_atend_m"
   ]
  },
  {
   "cell_type": "code",
   "execution_count": 13,
   "metadata": {},
   "outputs": [],
   "source": [
    "# Sumamos la variable anterior con el tiempo que habíamos calculado para cada cliente\n",
    "# es decir, agregaremos el tiempo que se tardarón en atender solo a las mujeres al tiempo inicial\n",
    "# el tiempo de los hombre se queda igual por ahora.\n",
    "t2 = t_atend_m_c + t1"
   ]
  },
  {
   "cell_type": "code",
   "execution_count": 14,
   "metadata": {},
   "outputs": [],
   "source": [
    "# Generamos la variable aleatoria del tiempo en el que los hombres serán atendidos.\n",
    "t_atend_h = st.uniform(loc = T_hombre_min, scale = T_hombre_max - T_hombre_min).rvs(size = [N_clientes, d])\n",
    "\n",
    "# Revertimos la variable de 0 y 1 de cliente para que se identifique como 1 a los hombres.\n",
    "clientes_t_inv = [[0 if clientesx[i,j] < 0.5 else 1 for j in range(clientesx.shape[1])] for i in range(len(clientesx))]"
   ]
  },
  {
   "cell_type": "code",
   "execution_count": 15,
   "metadata": {},
   "outputs": [],
   "source": [
    "# Multiplicamos dicha variable el tiempo en atender a los hombres y nos da\n",
    "# como resultado los tiempos que se tardaron en atender únicamente cuando eran hombre.\n",
    "t_atend_h_c = clientes_t_inv * t_atend_h\n"
   ]
  },
  {
   "cell_type": "code",
   "execution_count": 16,
   "metadata": {},
   "outputs": [
    {
     "data": {
      "text/plain": [
       "array([[237.37672067, 100.67265701, 100.40087529,  62.43802479,\n",
       "         81.60624226],\n",
       "       [127.47844849, 103.13799075, 204.00423927, 101.08939561,\n",
       "         74.97941467],\n",
       "       [201.53846495,  64.70033937, 184.20818235, 283.05711056,\n",
       "         93.34131763],\n",
       "       ...,\n",
       "       [272.47763669,  76.27254601, 108.36576858, 136.01989617,\n",
       "        120.04127342],\n",
       "       [275.24042781, 141.01053119,  56.83552243,  68.98609762,\n",
       "        127.47807001],\n",
       "       [ 95.68361179, 220.81703307, 274.01397788,  68.36215642,\n",
       "        190.73361671]])"
      ]
     },
     "execution_count": 16,
     "metadata": {},
     "output_type": "execute_result"
    }
   ],
   "source": [
    "# Sumamos la variable anterior para ahora obtener el tiempo total en que atendieron a los hombres\n",
    "# es decir, el tiempo inicial para cada personas más el tiempo individual de los hombres.\n",
    "\n",
    "# En esta variable tenemos los tiempos (en segundos) que tardaron en atender a todas las personas indivudales, \n",
    "# incluyen el inicial y el tiempo si es hombre o mujer.\n",
    "t3 = t_atend_h_c + t2\n",
    "t3"
   ]
  },
  {
   "cell_type": "code",
   "execution_count": 17,
   "metadata": {},
   "outputs": [
    {
     "name": "stdout",
     "output_type": "stream",
     "text": [
      "El número de personas atendidas por día fue:  [175, 162, 181, 176, 181] personas.\n"
     ]
    }
   ],
   "source": [
    "# Como tenemos segundos limitados por día, agregamos una condición en la que cada lista\n",
    "# se detenga cuando se llegue al límite de segundos por día (columna)\n",
    "tt = [[i for i in t3[:,j].cumsum() if i < T] for j in range(clientesx.shape[1])]\n",
    "\n",
    "# Estas son el número de personas atendidas cada día. \n",
    "personas_atendidas = [len(tt[i]) for i in range(len(tt))]\n",
    "print('El número de personas atendidas por día fue: ', personas_atendidas, 'personas.')"
   ]
  },
  {
   "cell_type": "code",
   "execution_count": 18,
   "metadata": {},
   "outputs": [],
   "source": [
    "def selec_hasta_max(variable: 'Variable sobre la cual se tomará hasta el máximo número de clientes atendidos'):\n",
    "    '''\n",
    "    Esta función nos devuelve una lista de valores \n",
    "    para cada día (columna) hasta el número máximo de personas atendidas\n",
    "    de la variable que elegiamos (array),\n",
    "    los número máximos se encuentran en la variable 'personas_atendidas'\n",
    "    '''\n",
    "    x = [variable[0:personas_atendidas[i],i] for i in range(clientesx.shape[1])]\n",
    "    return x"
   ]
  },
  {
   "cell_type": "code",
   "execution_count": 19,
   "metadata": {},
   "outputs": [],
   "source": [
    "# Seleccionamos los tiempos de cada cliente (total ya con el inicial y sabiendo su sexo)\n",
    "# hasta el valor en el que se supera el máximo de segundos, en otras palabras\n",
    "# hasta el número máximo de personas atendidas.\n",
    "ti_personas_atendidas = selec_hasta_max(t3)"
   ]
  },
  {
   "cell_type": "code",
   "execution_count": 20,
   "metadata": {},
   "outputs": [
    {
     "name": "stdout",
     "output_type": "stream",
     "text": [
      "El tiempo de atención promedio por día fue de:  [142.7506, 154.6652, 139.0401, 142.7789, 138.9004] segundos, mientras que el promedio de los 5 días fue de:  143.627 segundos.\n"
     ]
    }
   ],
   "source": [
    "# Promedio de tiempo de atención por cliente por día.\n",
    "t_prom = [round(ti_personas_atendidas[i].mean(), 4) for i in range(clientesx.shape[1])]\n",
    "t_prom_tt = sum(t_prom) / len(t_prom)\n",
    "print('El tiempo de atención promedio por día fue de: ', t_prom, \n",
    "      'segundos, mientras que el promedio de los 5 días fue de: ', round(t_prom_tt, 4), 'segundos.')"
   ]
  },
  {
   "cell_type": "code",
   "execution_count": 21,
   "metadata": {},
   "outputs": [],
   "source": [
    "# Creamos la variable aleatoria para el consumo (en dinero) de las mujeres cada día.\n",
    "consumo_m = st.uniform(loc = C_mujer_min, scale = C_mujer_max - C_mujer_min).rvs(size = [N_clientes, d])"
   ]
  },
  {
   "cell_type": "code",
   "execution_count": 22,
   "metadata": {},
   "outputs": [],
   "source": [
    "# Multiplicamos dicho consumo con los clientes que son mujeres (identificadas con un 1)\n",
    "consumo_m_t = clientes_t * consumo_m\n",
    "\n",
    "# Seleccionamos los datos hasta el máximo número de clientes atendidos por día para las mujeres.\n",
    "consumo_m_tt = selec_hasta_max(consumo_m_t)"
   ]
  },
  {
   "cell_type": "code",
   "execution_count": 23,
   "metadata": {},
   "outputs": [],
   "source": [
    "# Creamos la variable aleatoria para el consumo (en dinero) de los hombres cada día.\n",
    "consumo_h = st.uniform(loc = C_hombre_min, scale = C_hombre_max - C_hombre_min).rvs(size = [N_clientes, d])"
   ]
  },
  {
   "cell_type": "code",
   "execution_count": 24,
   "metadata": {},
   "outputs": [],
   "source": [
    "# Multiplicamos dicho consumo con los clientes que son mayores (identificadas con un 1) en la clientes inversa.\n",
    "consumo_h_t = clientes_t_inv * consumo_h\n",
    "\n",
    "# Seleccionamos los datos hasta el máximo número de clientes atendidos por día para los hombres.\n",
    "consumo_h_tt = selec_hasta_max(consumo_h_t)"
   ]
  },
  {
   "cell_type": "code",
   "execution_count": 25,
   "metadata": {},
   "outputs": [
    {
     "data": {
      "text/plain": [
       "[array([99.92367848, 42.45198621, 62.98478636, 29.98805988, 94.33375129,\n",
       "        74.9911914 , 63.22926918, 53.92035758, 50.02661035, 68.06022511,\n",
       "        48.16098086, 46.7677579 , 75.21253668, 77.25831217, 53.58388815,\n",
       "        58.18431998, 85.69336115, 62.94602485, 21.63581426, 61.74826302,\n",
       "        66.1696197 , 28.38984774, 91.48600025, 55.16326097, 58.7123856 ,\n",
       "        25.76474796, 29.76211484, 85.89989376, 29.89438777, 56.43467033,\n",
       "        46.7734213 , 55.28245936, 34.87712737, 31.3042112 , 55.07726162,\n",
       "        94.34687406, 78.39867966, 60.18720544, 56.50704877, 54.52026136,\n",
       "        88.77073819, 80.07764956, 52.07242361, 59.4918552 , 51.30537457,\n",
       "        71.07146851, 53.31448614, 60.81088199, 41.08010938, 94.24553511,\n",
       "        48.62641114, 97.74453359, 59.83311191, 53.70050307, 61.09865301,\n",
       "        68.5454257 , 79.13985082, 49.24398111, 76.55834008, 57.97469902,\n",
       "        55.8721929 , 99.11262728, 71.38686789, 65.17929035, 76.0969587 ,\n",
       "        31.01122345, 64.18681268, 99.01922283, 85.65645422, 61.63778537,\n",
       "        38.9341693 , 38.60352913, 53.88886393, 76.62870334, 75.3844637 ,\n",
       "        64.98545381, 53.20757864, 79.89417131, 33.15575369, 22.29231649,\n",
       "        68.25743159, 41.15464594, 35.29571053, 46.92150335, 56.59836784,\n",
       "        39.77132246, 76.6871605 , 34.48210183, 81.90650679, 80.89692961,\n",
       "        79.46593166, 74.14445156, 35.6227941 , 76.99883542, 68.15723149,\n",
       "        70.24603328, 58.64409078, 56.98556667, 87.88264575, 66.77120795,\n",
       "        35.55741401, 80.58509711, 68.22469347, 40.7308231 , 71.05682445,\n",
       "        56.30330621, 44.19743369, 32.51609084, 50.18822117, 35.55147409,\n",
       "        86.5861253 , 31.15258661, 33.84212342, 41.98798626, 78.67658334,\n",
       "        31.30406023, 97.38765285, 26.32239656, 46.195677  , 44.57248244,\n",
       "        39.30558868, 97.94946152, 46.6076202 , 37.76477683, 43.60637821,\n",
       "        46.50046816, 37.58262994, 77.76657648, 69.73858399, 86.915495  ,\n",
       "        35.71232083, 36.17888566, 60.36163829, 38.91504449, 24.65777157,\n",
       "        29.85301685, 77.80493386, 64.65494   , 70.25554958, 87.90114456,\n",
       "        37.68241552, 52.55988442, 77.2684487 , 36.48612057, 44.42686941,\n",
       "        37.46427361, 70.53518945, 42.8901592 , 47.09175877, 25.98537973,\n",
       "        75.40787104, 96.78521222, 65.78638738, 51.8623827 , 48.63648668,\n",
       "        86.80186283, 80.27198394, 34.55334469, 63.10052394, 79.39719405,\n",
       "        33.51561396, 42.46312672, 30.93377457, 72.76139017, 74.09651926,\n",
       "        44.96500742, 93.94074801, 53.99110304, 46.89001656, 81.11919125,\n",
       "        64.53925453, 29.26824498, 26.86451023, 61.85133796, 62.15904969]),\n",
       " array([71.83026204, 55.95775303, 38.41995958, 21.68573634, 31.54732475,\n",
       "        70.91271474, 55.30286187, 21.07571165, 39.87166745, 80.79332177,\n",
       "        58.74431578, 72.93010065, 63.33056662, 49.98294034, 25.81637727,\n",
       "        73.68502608, 41.21750305, 78.28450222, 51.51737502, 32.70473896,\n",
       "        52.85974577, 35.72268391, 41.97064314, 98.18150302, 40.31064027,\n",
       "        41.94640133, 58.43305587, 93.19401567, 68.07966212, 93.89224693,\n",
       "        20.16485087, 68.67509471, 41.92828588, 87.044123  , 76.12330113,\n",
       "        37.51062348, 71.88928547, 47.29440927, 22.70999891, 21.1125101 ,\n",
       "        38.11858269, 74.10662884, 56.93422918, 41.92444583, 65.37695791,\n",
       "        50.48703525, 52.22322897, 34.97475779, 23.39722959, 65.0716629 ,\n",
       "        25.31495054, 31.88438638, 63.53427769, 30.19089472, 38.48445107,\n",
       "        93.25306163, 45.80483573, 56.10923985, 46.89995063, 66.35108946,\n",
       "        68.37229982, 56.62837216, 50.63304663, 44.82845136, 20.67494866,\n",
       "        28.07678351, 78.14507949, 63.66319317, 42.85905174, 59.19114242,\n",
       "        32.62108394, 52.4596369 , 46.13734015, 34.11223932, 34.20955559,\n",
       "        37.25958659, 81.6414461 , 51.55979434, 36.5673244 , 52.53231098,\n",
       "        99.55466394, 76.10747637, 63.60352055, 31.86764119, 70.06292593,\n",
       "        67.29179724, 70.0246413 , 20.9356105 , 64.32171352, 45.29883961,\n",
       "        31.75284125, 37.41792745, 71.20006448, 24.43075753, 45.58195566,\n",
       "        40.23501257, 77.91398538, 77.43667296, 25.17184584, 67.51231713,\n",
       "        52.98477164, 41.99936648, 96.35186105, 61.84199419, 34.35269095,\n",
       "        55.86718817, 35.09838929, 49.45887617, 80.29203278, 61.085366  ,\n",
       "        92.91353072, 28.53454306, 98.76345104, 39.77427041, 65.07929369,\n",
       "        58.64219645, 75.40919079, 96.70510542, 31.16478619, 89.5785951 ,\n",
       "        36.0555887 , 37.75174687, 46.81014402, 97.07478101, 45.56039737,\n",
       "        26.59654776, 20.64178563, 70.34192058, 75.89255407, 40.46094605,\n",
       "        53.86955542, 79.03182219, 30.87612736, 97.62754689, 65.58593638,\n",
       "        95.17820728, 71.32879067, 38.57232876, 79.6843473 , 39.29436453,\n",
       "        77.07129179, 49.95362906, 61.28024895, 85.41526802, 44.5495772 ,\n",
       "        89.85124692, 39.80729047, 35.51067855, 54.70076767, 99.32601999,\n",
       "        57.68984123, 58.92936837, 77.80268736, 48.31389321, 67.17964491,\n",
       "        30.95007453, 76.63714521, 83.79067216, 99.47995168, 54.63774608,\n",
       "        29.04063878, 58.38776296]),\n",
       " array([93.98671527, 57.83235098, 71.92953359, 40.79807824, 70.31168236,\n",
       "        40.17257958, 54.35385971, 58.9875586 , 65.28531008, 55.91576877,\n",
       "        66.43757218, 51.00856558, 22.79361205, 48.34661806, 24.12272779,\n",
       "        95.41129384, 46.34820047, 64.14254721, 51.92805684, 66.84420908,\n",
       "        79.08219451, 62.4307271 , 69.55232146, 68.63395722, 70.31929927,\n",
       "        26.55682059, 85.95854703, 52.57784312, 53.25735144, 57.34295132,\n",
       "        65.07759326, 98.48333054, 36.84617014, 37.09769776, 48.5547363 ,\n",
       "        56.99236741, 67.9253284 , 53.81623347, 73.36717488, 64.00862262,\n",
       "        56.90222107, 90.60674399, 25.74821937, 96.29089004, 64.04184621,\n",
       "        40.15336625, 73.7181759 , 46.15101946, 44.06379959, 58.52766513,\n",
       "        37.14259454, 78.39081001, 66.51612409, 55.9315226 , 31.13984505,\n",
       "        47.63282655, 42.23696941, 47.35811096, 65.85710945, 58.51611003,\n",
       "        56.52342894, 63.91201946, 42.75130046, 99.38499301, 60.2814395 ,\n",
       "        79.9100165 , 37.99039132, 61.82452219, 66.32388045, 29.28805096,\n",
       "        91.13490131, 30.0228754 , 72.06507408, 94.78083899, 65.63607145,\n",
       "        32.02060707, 67.16574628, 80.80351247, 74.02021983, 29.99527654,\n",
       "        55.19196635, 31.57003646, 66.07537656, 78.35929444, 40.93972064,\n",
       "        41.2101786 , 33.18056569, 20.41006592, 55.63247924, 23.82265481,\n",
       "        69.02391258, 56.53640709, 79.98145699, 86.23778247, 77.35830689,\n",
       "        22.79360906, 76.00140565, 50.0613825 , 32.5809874 , 79.4557859 ,\n",
       "        38.38123992, 53.00691759, 30.72534263, 80.33819215, 72.11871917,\n",
       "        47.87377026, 40.88532382, 66.89417779, 51.08442316, 73.71591066,\n",
       "        85.884004  , 26.7491357 , 75.65034557, 63.65891834, 76.47965687,\n",
       "        37.5126531 , 63.05738265, 80.33117117, 63.31680417, 62.87117534,\n",
       "        22.86009708, 37.31746195, 32.83919025, 43.25926843, 25.37637704,\n",
       "        41.27350454, 80.63845535, 85.4147921 , 79.89807605, 68.54040909,\n",
       "        69.38026333, 71.66648176, 76.81767446, 66.18853373, 68.72532467,\n",
       "        65.88413736, 45.94221539, 77.86458914, 63.24605016, 59.5757449 ,\n",
       "        81.63080448, 72.16683244, 57.53194291, 59.31282548, 67.00550816,\n",
       "        38.41244892, 84.81136185, 24.84507667, 39.19070715, 54.36378453,\n",
       "        42.57536807, 29.03846439, 38.58448237, 64.04137978, 95.67713275,\n",
       "        90.16551492, 62.87257696, 75.83521701, 32.34511461, 71.78366219,\n",
       "        77.03172399, 23.00248001, 24.18236121, 74.78040971, 49.90631842,\n",
       "        98.82301512, 33.98806907, 84.30054373, 90.42205602, 57.05014046,\n",
       "        55.62668411, 45.09798018, 39.73997679, 90.61154731, 86.31710133,\n",
       "        71.26796875, 68.62600683, 99.62905522, 44.80215024, 53.19835682,\n",
       "        42.05031649]),\n",
       " array([60.23977405, 30.47062914, 90.23468973, 25.56846166, 56.58576692,\n",
       "        69.2745671 , 52.40782155, 70.59316809, 71.38254468, 30.31403517,\n",
       "        98.75325267, 62.02322692, 28.22595449, 65.18909822, 23.05156127,\n",
       "        57.22971476, 65.06293788, 88.1313038 , 88.67089971, 33.62167186,\n",
       "        69.16659411, 97.62272111, 44.39877815, 42.77191843, 92.22791857,\n",
       "        24.99811928, 23.45925274, 46.08514695, 30.55163154, 55.13312053,\n",
       "        65.17617438, 61.67960966, 90.99114164, 70.02384425, 23.17553841,\n",
       "        80.62889296, 55.65658634, 64.41235958, 55.48340992, 50.88566447,\n",
       "        62.67909614, 36.60573358, 96.80450068, 42.22804143, 34.00995413,\n",
       "        57.40130155, 26.03408818, 90.66720115, 35.14323855, 43.01214858,\n",
       "        44.18262933, 84.92628239, 35.15548864, 48.95904104, 64.30634571,\n",
       "        52.35393606, 53.39191846, 60.76870653, 46.62846985, 71.37703674,\n",
       "        45.11111802, 77.79406502, 38.88497494, 27.27910877, 55.08747526,\n",
       "        95.81072319, 78.95592195, 51.19684628, 87.60367579, 62.05173994,\n",
       "        34.43637537, 70.55824436, 72.85501508, 33.4126545 , 62.7222392 ,\n",
       "        44.92729196, 32.72986721, 37.27653146, 54.93193301, 73.8897467 ,\n",
       "        38.69240518, 91.07703954, 41.10441984, 46.87449853, 86.25851249,\n",
       "        28.68700718, 68.73833665, 49.48256321, 64.69881565, 94.36538225,\n",
       "        34.74883239, 79.91332506, 55.13740561, 56.70007716, 38.97403811,\n",
       "        74.60188271, 97.11155866, 62.45581074, 58.33039082, 55.88486188,\n",
       "        24.87379539, 85.8024687 , 71.3585196 , 69.9727849 , 39.89231623,\n",
       "        35.11055961, 97.09473783, 70.34793715, 30.41054918, 36.86187016,\n",
       "        46.80994261, 46.01838056, 75.39797167, 75.37554016, 35.61254441,\n",
       "        63.96013842, 43.25676777, 33.42297201, 70.727566  , 37.50759491,\n",
       "        51.05281201, 99.87053899, 67.40774641, 78.3765423 , 20.66401522,\n",
       "        23.43352032, 71.13164474, 67.41933911, 71.33862852, 24.04132052,\n",
       "        44.94994008, 33.9876885 , 24.47848372, 63.23199357, 41.89674518,\n",
       "        67.99984452, 26.34124277, 87.65907141, 40.53322341, 21.40114415,\n",
       "        34.72129756, 68.11118798, 61.63790274, 64.08384174, 62.42733601,\n",
       "        22.55155119, 55.63240213, 29.71080233, 77.12828223, 31.42327206,\n",
       "        79.18436542, 86.38194488, 77.93739342, 70.15588884, 34.21428738,\n",
       "        72.11299443, 34.44153552, 75.65374371, 71.99821628, 66.33876418,\n",
       "        47.01634806, 38.40721454, 56.06299625, 79.84049905, 77.67453423,\n",
       "        23.62347759, 32.13243425, 22.14047885, 64.65821073, 32.10966754,\n",
       "        69.17494668, 38.446325  , 30.79798584, 35.89251046, 96.99443413,\n",
       "        79.30595489]),\n",
       " array([40.65580856, 56.55600424, 24.40313819, 65.45819074, 52.34711704,\n",
       "        68.40775701, 52.01551429, 34.07217082, 79.16523231, 71.30069223,\n",
       "        76.7822648 , 49.85171531, 71.17875589, 38.15912118, 26.56378316,\n",
       "        49.0493234 , 44.83521942, 42.7554066 , 20.09682354, 78.96531275,\n",
       "        38.02413189, 88.15727216, 57.89523313, 41.02531382, 29.87515308,\n",
       "        84.0117838 , 32.08047471, 58.31128257, 52.95875825, 90.29432344,\n",
       "        97.60289148, 57.59445097, 84.63422509, 94.1607665 , 35.87910716,\n",
       "        79.26221076, 55.19143423, 42.80394595, 36.22582072, 55.14180069,\n",
       "        90.50479145, 65.65435245, 60.01797333, 35.58187727, 38.90804128,\n",
       "        39.26041501, 46.05141423, 48.76559271, 39.42102471, 65.75218666,\n",
       "        54.93918497, 73.66326752, 72.30888896, 31.19426631, 69.1487243 ,\n",
       "        40.13552039, 34.7171839 , 54.89053378, 38.16512858, 69.34641866,\n",
       "        48.01711248, 74.7061835 , 69.67741031, 82.67272053, 33.30759185,\n",
       "        50.54643188, 28.3781911 , 31.53629056, 86.18690249, 39.57492645,\n",
       "        49.87850399, 55.05664007, 75.31932368, 20.92083066, 36.92426687,\n",
       "        56.10290638, 34.9831105 , 76.29618564, 60.08540376, 79.14069095,\n",
       "        50.91218178, 57.06699861, 60.89383491, 32.76743527, 61.38940507,\n",
       "        22.38501161, 81.85762663, 52.85483241, 75.57448781, 30.27074963,\n",
       "        25.48937885, 42.20118445, 89.17131988, 73.86168036, 52.53872494,\n",
       "        23.15024038, 97.32227702, 73.35464018, 44.24645819, 39.67297634,\n",
       "        79.34231954, 31.06916846, 32.20418132, 76.65178305, 32.22135208,\n",
       "        48.97684859, 49.14696956, 34.05608281, 75.88276421, 33.93498398,\n",
       "        85.60581628, 56.86676143, 58.4667972 , 67.68714605, 56.45819388,\n",
       "        43.70106509, 61.33108639, 33.63524476, 43.58253908, 55.45329143,\n",
       "        36.07102472, 74.16578471, 80.57477654, 61.20036667, 77.56309479,\n",
       "        66.05931443, 47.08021821, 56.52318978, 71.40550862, 41.0691556 ,\n",
       "        93.04067737, 68.59336238, 46.04561028, 39.50125916, 74.57006594,\n",
       "        54.8924306 , 28.4817839 , 68.62444134, 20.01916974, 39.28011799,\n",
       "        57.89420307, 55.74554561, 21.04002068, 52.28932504, 59.02254597,\n",
       "        55.16525607, 64.40671369, 57.90565973, 43.00035213, 35.44104355,\n",
       "        40.43496924, 42.20739084, 51.35064878, 66.61927579, 97.89687646,\n",
       "        55.25343384, 62.39565831, 51.01500377, 98.38678303, 25.91664525,\n",
       "        70.87508881, 42.65405507, 91.50119011, 53.40838341, 92.49457536,\n",
       "        26.47629753, 31.24263939, 56.93664384, 61.15197342, 35.59637713,\n",
       "        70.66271952, 72.31573323, 75.78247537, 40.63170124, 64.67599928,\n",
       "        26.52444629, 51.74125585, 46.74967995, 75.57644299, 24.64559985,\n",
       "        59.35509022])]"
      ]
     },
     "execution_count": 25,
     "metadata": {},
     "output_type": "execute_result"
    }
   ],
   "source": [
    "# Sumamos los consumos de ambos sexos para obtener el gasto individual de cada cliente por día.\n",
    "# Como las variables anteriores ya contemplaban los clientes máximos, esta siguiente es la completa.\n",
    "consumo_mh_tt = [consumo_h_tt[i] + consumo_m_tt[i] for i in range(clientesx.shape[1])]\n",
    "consumo_mh_tt"
   ]
  },
  {
   "cell_type": "code",
   "execution_count": 26,
   "metadata": {},
   "outputs": [
    {
     "name": "stdout",
     "output_type": "stream",
     "text": [
      "La ganancia promedio de la cafetería en 5 días fue de:  9952.2084 pesos, con una rentabilidad de:  5971.325 pesos.\n"
     ]
    }
   ],
   "source": [
    "# Sumamos el consumo de cada día para obtener la ganancia diaria del café.\n",
    "ganancia_cafe = [round(sum(consumo_mh_tt[i]), 4) for i in range(clientesx.shape[1])]\n",
    "\n",
    "# Ganancia total, ganancia promedio por día y rentabilidad del café\n",
    "ganancia_t_cafe = round(sum(ganancia_cafe), 4)\n",
    "ganancia_p_cafe = round(sum(ganancia_cafe) / len(ganancia_cafe), 4)\n",
    "rent_cafe = round(((sum(ganancia_cafe) / len(ganancia_cafe)) * 0.6), 4)\n",
    "\n",
    "print('La ganancia promedio de la cafetería en 5 días fue de: ', ganancia_p_cafe,\n",
    "     'pesos, con una rentabilidad de: ', rent_cafe, 'pesos.')"
   ]
  },
  {
   "cell_type": "code",
   "execution_count": 27,
   "metadata": {
    "scrolled": true
   },
   "outputs": [],
   "source": [
    "# Seleccionamos únicamente el consumo de las mujeres\n",
    "total_consumo_m = [consumo_m_tt[i][consumo_m_tt[i]!=0] for i in range(clientesx.shape[1])]\n",
    "\n",
    "# Seleccionamos únicamente el consumo por día de los hombres.\n",
    "total_consumo_h = [consumo_h_tt[i][consumo_h_tt[i]!=0] for i in range(clientesx.shape[1])]"
   ]
  },
  {
   "cell_type": "code",
   "execution_count": 28,
   "metadata": {},
   "outputs": [
    {
     "name": "stdout",
     "output_type": "stream",
     "text": [
      "Los gastos totales de las mujeres en los 5 días fue de:  26771.122099999997 pesos.\n"
     ]
    }
   ],
   "source": [
    "# Sumamos el consumo de cada cliente mujer por día, la suma de esto nos dará el total del consumo. \n",
    "gastos_m = [round(sum(total_consumo_m[i]), 4) for i in range(clientesx.shape[1])]\n",
    "\n",
    "gastos_t_m = sum(gastos_m)\n",
    "print('Los gastos totales de las mujeres en los 5 días fue de: ', gastos_t_m, 'pesos.')"
   ]
  },
  {
   "cell_type": "code",
   "execution_count": 29,
   "metadata": {},
   "outputs": [
    {
     "name": "stdout",
     "output_type": "stream",
     "text": [
      "Los gastos totales de los hombres en los 5 días fue de:  22989.92 pesos.\n"
     ]
    }
   ],
   "source": [
    "# Sumamos el consumo de cada cliente hombre por día, la suma de esto nos dará el total del consumo. \n",
    "gastos_h = [round(sum(total_consumo_h[i]), 4) for i in range(clientesx.shape[1])]\n",
    "\n",
    "gastos_t_h = sum(gastos_h)\n",
    "print('Los gastos totales de los hombres en los 5 días fue de: ', gastos_t_h, 'pesos.')"
   ]
  },
  {
   "cell_type": "code",
   "execution_count": 30,
   "metadata": {},
   "outputs": [
    {
     "name": "stdout",
     "output_type": "stream",
     "text": [
      "El consumo promedio de las mujeres fue de:  65.4043 pesos.\n"
     ]
    }
   ],
   "source": [
    "# De las variables anteriores también podemos obtener el consumo medio por mujeres por día.\n",
    "prom_gastos_m = [round(total_consumo_m[i].mean(), 4) for i in range(clientesx.shape[1])]\n",
    "\n",
    "prom_gastos_t_m = round(sum(prom_gastos_m) / len(prom_gastos_m), 4)\n",
    "print('El consumo promedio de las mujeres fue de: ', prom_gastos_t_m, 'pesos.')"
   ]
  },
  {
   "cell_type": "code",
   "execution_count": 31,
   "metadata": {},
   "outputs": [
    {
     "name": "stdout",
     "output_type": "stream",
     "text": [
      "El consumo promedio de los hombres fue de:  49.2131 pesos.\n"
     ]
    }
   ],
   "source": [
    "# Y el consumo medio por hombres por día. \n",
    "prom_gastos_h = [round(total_consumo_h[i].mean(), 4) for i in range(clientesx.shape[1])]\n",
    "\n",
    "prom_gastos_t_h = round(sum(prom_gastos_h) / len(prom_gastos_h), 4)\n",
    "print('El consumo promedio de los hombres fue de: ', prom_gastos_t_h, 'pesos.')"
   ]
  },
  {
   "cell_type": "code",
   "execution_count": 32,
   "metadata": {},
   "outputs": [
    {
     "name": "stdout",
     "output_type": "stream",
     "text": [
      "Los gastos totales de las mujeres en los 5 días fue de:  26771.122099999997 pesos.\n",
      "Los gastos totales de los hombres en los 5 días fue de:  22989.92 pesos.\n",
      "El consumo promedio de las mujeres fue de:  65.4043 pesos.\n",
      "El consumo promedio de los hombres fue de:  49.2131 pesos.\n",
      "El número de personas atendidas por día fue:  [175, 162, 181, 176, 181] personas.\n",
      "El tiempo de atención promedio por día fue de:  [142.7506, 154.6652, 139.0401, 142.7789, 138.9004] segundos, mientras que el promedio de los 5 días fue de:  143.627 segundos.\n",
      "La ganancia promedio de la cafetería en 5 días fue de:  9952.2084 pesos, con una rentabilidad de:  5971.325 pesos.\n"
     ]
    }
   ],
   "source": [
    "# Los prints están en el código conforme se resolvía la pregunta pero también estarán aquí a manera de resumen.\n",
    "print('Los gastos totales de las mujeres en los 5 días fue de: ', gastos_t_m, 'pesos.')\n",
    "print('Los gastos totales de los hombres en los 5 días fue de: ', gastos_t_h, 'pesos.')\n",
    "print('El consumo promedio de las mujeres fue de: ', prom_gastos_t_m, 'pesos.')\n",
    "print('El consumo promedio de los hombres fue de: ', prom_gastos_t_h, 'pesos.')\n",
    "print('El número de personas atendidas por día fue: ', personas_atendidas, 'personas.')\n",
    "print('El tiempo de atención promedio por día fue de: ', t_prom, \n",
    "      'segundos, mientras que el promedio de los 5 días fue de: ', round(t_prom_tt, 4), 'segundos.')\n",
    "print('La ganancia promedio de la cafetería en 5 días fue de: ', ganancia_p_cafe,\n",
    "     'pesos, con una rentabilidad de: ', rent_cafe, 'pesos.')"
   ]
  },
  {
   "cell_type": "markdown",
   "metadata": {},
   "source": [
    "#### Markdown"
   ]
  },
  {
   "cell_type": "markdown",
   "metadata": {},
   "source": [
    "El problema de simulación se solucionó de la siguiente manera:\n",
    "\n",
    "- Se generó un array de números uniformes entre 0 y 1, cada número representaba un cliente y cada columna de la misma el día. Se convirtieron estos números aleatorios a unos y ceros para identificar el sexo del cliente.\n",
    "- Posteriormente teníamos que simular el tiempo de atención dependiendo de varias condiciones y la restricción de que no se podía pasar de cierto valor. \n",
    "- Primero calculamos el tiempo desde que el cliente llega hasta ser atendido, todos los clientes pasan por esta situación. Después calculamos el tiempo en el que las mujeres eran atendidas de acuerdo a una variable con cierta distribución, de igual manera, calculamos el tiempo en el que los hombres eran atendidos, esto con ayuda la primer variable que identificaba a los clientes por sexo. \n",
    "- Segundo, sumamos todos estos tiempos y los juntamos en una sola variable en donde cada tiempo representaba un cliente y de igual manera cada columna representaba un día. \n",
    "- Sobre estos tiempos, considerando todas las condiciones, aplicamos la restricción de tiempo para encontrar  hasta que cliente se iba a atender por día y por lo tanto teníamos **cuantos clientes se atendían por día**.\n",
    "- Gracias a esto pudimos reducir nuestra variable de tiempos hasta el número de clientes que en realidad se atendía y en base a esta información se calculó el **promedio de atención** por día y por los 5 días. \n",
    "- Posteriormente modelamos el consumo de hombres y mujeres y nuevamente, de acuerdo al sexo del cliente, se agregaba la cantidad consumida por cliente por día. De igual manera, calculamos únicamente sobre el número de clientes que se alcanzaba a atender por día.\n",
    "- De la información anterior se obtuvo la **ganancia promedio y la rentabilidad de la cafetería**, así como los **gastos totales en los 5 días** y el **gasto promedio** de ambos sexos.\n",
    "\n",
    "Estos fueron los resultados finales de la simulación:\n",
    "\n",
    "1. ¿Cuáles fueron los gastos de los hombres y las mujeres en 5 días de trabajo?\n",
    "\n",
    "El gasto de las mujeres en los 5 días de trabajo fue de $\\$27339.7387$. <br>\n",
    "El gasto de los hombres en los 5 días de trabajo fue de $\\$21387.6776$.\n",
    "\n",
    "2. ¿Cuál fue el consumo promedio de los hombres y mujeres?\n",
    "\n",
    "El consumo promedio de las mujeres fue de $\\$64.9862$. <br>\n",
    "El consumo promedio de los hombres fue de $\\$49.624$.\n",
    "\n",
    "3. ¿Cuál fue el número de personas atendidas por día?\n",
    "\n",
    "El número de personas atendidas por día fue $159$, $182$, $174$, $163$, $173$ respectivamente. \n",
    "\n",
    "4. ¿Cuál fue el tiempo de atención promedio?\n",
    "\n",
    "El tiempo de atención promedio fue de $148.1772$ segundos.\n",
    "\n",
    "5. ¿Cuánto fue la ganancia promedio de la cafetería en 5 días de trabajo y su respectiva rentabilidad?\n",
    "\n",
    "La ganancia promedio de la cafetería en los 5 días fue de $\\$9745.4833$ con una rentabilidad de $\\$5847.29$"
   ]
  },
  {
   "cell_type": "markdown",
   "metadata": {},
   "source": [
    "### Solución de Miriam"
   ]
  },
  {
   "cell_type": "markdown",
   "metadata": {},
   "source": [
    "#### Código"
   ]
  },
  {
   "cell_type": "code",
   "execution_count": 33,
   "metadata": {},
   "outputs": [],
   "source": [
    "np.random.seed(123) # semilla\n",
    "escenarios = 1000 # escenarios (en este caso, un escenario será una persona)\n",
    "aleatorios = [np.random.random(escenarios) for i in range(d)] # generar números aleatorios\n",
    "personas_d_dias = [np.array([0 if aleatorios[i][n] >= 0.5 else 1 for n in range(escenarios)]) for i in range(d)]\n",
    "                   # aplicar la condición hombre - mujer, 1000 personas por día (default)\n",
    "C_mujer = st.uniform(loc = C_mujer_min, scale = C_mujer_max - C_mujer_min).rvs(size = [escenarios, d], random_state = 123)\n",
    "          # distribución uniforme del consumo de las mujeres\n",
    "C_hombre = st.uniform(loc = C_hombre_min, scale = C_hombre_max - C_hombre_min).rvs(size = [escenarios, d], random_state = 123)\n",
    "           # distribución uniforme del consumo de los hombres\n",
    "T_at_mujer_min = T_at_min + T_mujer_min # tiempo mínimo total en el que se atiende a una mujer\n",
    "T_at_mujer_max = T_at_max + T_mujer_max # tiempo máximo total en el que se atiende a una mujer\n",
    "T_at_hombre_min = T_at_min + T_hombre_min # tiempo mínimo total en el que se atiende a un hombre\n",
    "T_at_hombre_max = T_at_max + T_hombre_max # tiempo máximo total en el que se atiende a un hombre\n",
    "T_mujer = st.uniform(loc = T_at_mujer_min, scale = T_at_mujer_max - T_at_mujer_min).rvs(size = [escenarios, d], \n",
    "          random_state = 123) # distribución uniforme del tiempo en el cual se atiende a una mujer\n",
    "T_hombre = st.uniform(loc = T_at_hombre_min, scale = T_at_hombre_max - T_at_hombre_min).rvs(size = [escenarios, d],\n",
    "           random_state = 123) # distribución unidorme del tiempo en el cual se atiende a un hombre\n",
    "tiempos = [[T_hombre.T[i][n] if personas_d_dias[i][n] == 0 else T_mujer.T[i][n] for n in range(escenarios)] for i in range(d)]\n",
    "          # tiempo en el cual cada una de las 1000 personas es atendida conforme llega, para los 5 días\n",
    "binary_personas = [[\"person\" if np.array(tiempos)[i].cumsum()[n] <= T else None for i in range(d)] for n in range(escenarios)]\n",
    "                  # se agrega \"person\" si dicha persona alcanza a ser atendida dentro del límite de tiempo"
   ]
  },
  {
   "cell_type": "code",
   "execution_count": 34,
   "metadata": {},
   "outputs": [
    {
     "name": "stdout",
     "output_type": "stream",
     "text": [
      "La cantidad de personas atendidas (hombre o mujer) en cada uno de los días son las siguientes [178, 169, 164, 160, 176]\n",
      "El tiempo de atención promedio (tanto para hombres como mujeres) de los 5 días fue de 148.56574803547173 seg. por persona.\n"
     ]
    }
   ],
   "source": [
    "num_personas = [list(np.array(binary_personas).T[i]).count(\"person\") for i in range(d)]\n",
    "print(\"La cantidad de personas atendidas (hombre o mujer) en cada uno de los días son las siguientes\", num_personas)\n",
    "dia1 = personas_d_dias[0][:num_personas[0]] # personas atendidas en el día 1 (con 0s y 1s), ya tomando en cuenta el tiempo\n",
    "dia2 = personas_d_dias[1][:num_personas[1]] # personas atendidas en el día 2 (con 0s y 1s), ya tomando en cuenta el tiempo\n",
    "dia3 = personas_d_dias[2][:num_personas[2]] # personas atendidas en el día 3 (con 0s y 1s), ya tomando en cuenta el tiempo\n",
    "dia4 = personas_d_dias[3][:num_personas[3]] # personas atendidas en el día 4 (con 0s y 1s), ya tomando en cuenta el tiempo\n",
    "dia5 = personas_d_dias[4][:num_personas[4]] # personas atendidas en el día 5 (con 0s y 1s), ya tomando en cuenta el tiempo\n",
    "dias = [dia1, dia2, dia3, dia4, dia5] # lista de litas de las personas atendidas por día\n",
    "tiempos2 = [[T_hombre.T[i][n] if dias[i][n] == 0 else T_mujer.T[i][n] for n in range(num_personas[i])] for i in range(d)]\n",
    "           # tiempo en el cual cada una de las personas es atendida conforme llega (ya tomando en cuenta cuales alcanzan)\n",
    "tiempo_prom = np.array(list(map(lambda x: np.array(x).mean(), tiempos2))).mean()\n",
    "              # primero calculo el promedio por día, y luego saco el promedio de todos los días\n",
    "print(\"El tiempo de atención promedio (tanto para hombres como mujeres) de los 5 días fue de \" + str(tiempo_prom) + \n",
    "      \" seg. por persona.\")"
   ]
  },
  {
   "cell_type": "code",
   "execution_count": 35,
   "metadata": {},
   "outputs": [
    {
     "name": "stdout",
     "output_type": "stream",
     "text": [
      "El consumo promedio de las mujeres en los 5 días sería de 65.47776471731973 pesos diarios.\n",
      "El consumo total acumulado de todas las mujeres en los 5 días sería de 27640.883526454185 pesos.\n",
      "El consumo promedio de los hombres en los 5 días sería de 50.43628365517978 pesos diarios.\n",
      "El consumo total acumulado de todas los hombres en los 5 días sería de 21312.6771069692 pesos.\n"
     ]
    }
   ],
   "source": [
    "consumos = [[C_hombre.T[i][n] if dias[i][n] == 0 else C_mujer.T[i][n] for n in range(num_personas[i])] for i in range(d)]\n",
    "           # consumo de cada una de las personas que alcanzaron a ser atendidas en cada uno de los 5 días\n",
    "cons_muj_con_cero = np.array(dias, dtype = object) * np.array(consumos, dtype = object) \n",
    "                    # únicamente el consumo de las mujeres para poder sacar el promedio (el de los hombres se muestra como 0)\n",
    "cons_muj_con_nan = [[cons_muj_con_cero[i][n] if cons_muj_con_cero[i][n] != 0 else np.nan for n in range(num_personas[i])] \n",
    "                    for i in range(d)] # convierto el consumo de los hombres a np.nan para ignorarlo al sacar la media\n",
    "cons_prom_muj = np.array(list(map(lambda x: np.array(x)[~ np.isnan(x)].mean(), cons_muj_con_nan))).mean()\n",
    "print(\"El consumo promedio de las mujeres en los 5 días sería de \" + str(cons_prom_muj) + \" pesos diarios.\")\n",
    "cons_suma_muj = np.array(list(map(lambda x: np.array(x)[~ np.isnan(x)].sum(), cons_muj_con_nan))).sum()\n",
    "                # lo que sería equivalente a todos los ingresos que vienen de las mujeres\n",
    "print(\"El consumo total acumulado de todas las mujeres en los 5 días sería de \" + str(cons_suma_muj) + \" pesos.\")\n",
    "dias_al_reves = [np.array([0 if dias[i][n] == 1 else 1 for n in range(num_personas[i])]) for i in range(d)]\n",
    "              # switchear las mujeres por los hombres para poder ponerle \"1\" a los hombres y multiplicar correctamente\n",
    "cons_hom_con_cero = np.array(dias_al_reves, dtype = object) * np.array(consumos, dtype = object) \n",
    "                    # únicamente el consumo de los hombres para poder sacar el promedio (el de las mujeres se muestra como 0)\n",
    "cons_hom_con_nan = [[cons_hom_con_cero[i][n] if cons_hom_con_cero[i][n] != 0 else np.nan for n in range(num_personas[i])] \n",
    "                    for i in range(d)] # convierto el consumo de las mujeres a np.nan para ignorarlo al sacar la media\n",
    "cons_prom_hom = np.array(list(map(lambda x: np.array(x)[~ np.isnan(x)].mean(), cons_hom_con_nan))).mean()\n",
    "print(\"El consumo promedio de los hombres en los 5 días sería de \" + str(cons_prom_hom) + \" pesos diarios.\")\n",
    "cons_suma_hom = np.array(list(map(lambda x: np.array(x)[~ np.isnan(x)].sum(), cons_hom_con_nan))).sum()\n",
    "                # lo que sería equivalente a todos los ingresos que vienen de los hombres\n",
    "print(\"El consumo total acumulado de todas los hombres en los 5 días sería de \" + str(cons_suma_hom) + \" pesos.\")"
   ]
  },
  {
   "cell_type": "code",
   "execution_count": 36,
   "metadata": {},
   "outputs": [
    {
     "name": "stdout",
     "output_type": "stream",
     "text": [
      "El ingreso promedio de la cafetería en los 5 días sería de 9790.712126684677 pesos diarios.\n",
      "Con una rentabilidad del 60%, la rentabilidad promedio de esos 5 días sería de 5874.427276010806 pesos diarios.\n"
     ]
    }
   ],
   "source": [
    "ingreso_prom = np.array(list(map(lambda x: np.array(x).sum(), consumos))).mean()\n",
    "               # primero calculo los ingresos por día, y luego saco el promedio de todos esos ingresos\n",
    "print(\"El ingreso promedio de la cafetería en los 5 días sería de \" + str(ingreso_prom) + \" pesos diarios.\")\n",
    "print(\"Con una rentabilidad del 60%, la rentabilidad promedio de esos 5 días sería de \" + str(ingreso_prom * 0.6) + \n",
    "      \" pesos diarios.\")"
   ]
  },
  {
   "cell_type": "code",
   "execution_count": 37,
   "metadata": {},
   "outputs": [
    {
     "data": {
      "image/png": "[encoded data removed]",
      "text/plain": [
       "<Figure size 720x360 with 1 Axes>"
      ]
     },
     "metadata": {},
     "output_type": "display_data"
    }
   ],
   "source": [
    "import matplotlib.pyplot as plt\n",
    "import seaborn as sns; sns.set()\n",
    "plt.figure(figsize = (10, 5))\n",
    "plt.hist(C_hombre.T[4], bins = (1 + int(np.log2(len(C_hombre.T[4])))), color = \"c\") # en el día 5\n",
    "         # regla de Sturges para sacar el número de clases óptimo\n",
    "plt.xlabel(\"Clases\", fontsize = 12)\n",
    "plt.ylabel(\"Frecuencia absoluta\", fontsize = 12)\n",
    "plt.title(\"Histograma del consumo de 1000 hombres en un día\", fontsize = 20)\n",
    "plt.grid(color = \"#95a5a6\", linestyle='--', linewidth = 1.5, axis = \"y\", alpha = 0.7)\n",
    "plt.show() \n",
    "# la gráfica demuestra que sí es una distribución uniforme, se podría hacer \n",
    "# con cualquier otra distribución desarrollada en este ejercicio"
   ]
  },
  {
   "cell_type": "markdown",
   "metadata": {},
   "source": [
    "#### Markdown"
   ]
  },
  {
   "attachments": {
    "image-2.png": {
     "image/png": "[encoded data removed]"
    }
   },
   "cell_type": "markdown",
   "metadata": {},
   "source": [
    "Los **pasos** para resolver este ejercicio fueron los siguientes: \n",
    "- Primero **se desarrollaron las distribuciones uniformes** correspondientes al consumo de cada uno de los géneros y al tiempo en que estos fueron atendidos. \n",
    "- Después, **se creó una fila de $1000$ (escenarios) mujeres y hombres** generada aleatoriamente con las probabilidades proporcionadas (hay $49\\%$ de probabilidad de que la persona sea mujer y $51\\%$ de que sea hombre). \n",
    "- **Cada fila se generó 5 veces**, pues es la fecha futura para la cual se debía de hacer la simulación. \n",
    "- Después de eso, **se calculó cuántas personas**, de las que estaban formadas, **alcanzaría a atender la cafetería** antes de cerrar sus puertas. \n",
    "- A estas filas reducidas conformadas únicamente de las personas que alcanzarían a ser atendidas, **se les aplicó finalmente la distribución uniforme** dependiendo de si la persona que seguía de atender era hombre y mujer.\n",
    "- Finalmente, **se hicieron los cálculos** correspondientes dependiendo de si se preguntaba algo relacionado con el consumo o con el tiempo en ser atendidos; y tanto si se trataba de un estadístico por día (ej., el promedio de atención en cada uno de los cinco días, que regresa un array-like), o uno global (ej., el promedio de atención diario para los 5 días, que regresa un integer).\n",
    "\n",
    "Todas las **preguntas** concretas planteadas en el ejercicio se respondieron con unos `print()` en el código anterior, pero igualmente se responden a continuación:\n",
    "1. ¿Cuáles fueron los gastos de los hombres y las mujeres en $5$ días de trabajo?\n",
    "```\n",
    "El consumo total acumulado de todas las mujeres en los 5 días sería de 27640.883526454185 pesos.\n",
    "```\n",
    "```\n",
    "El consumo total acumulado de todas los hombres en los 5 días sería de 21312.6771069692 pesos.\n",
    "```\n",
    "2. ¿Cuál fue el consumo promedio de los hombres y mujeres?\n",
    "```\n",
    "El consumo promedio de las mujeres en los 5 días sería de 65.47776471731973 pesos diarios.\n",
    "```\n",
    "```\n",
    "El consumo promedio de los hombres en los 5 días sería de 50.43628365517978 pesos diarios.\n",
    "```\n",
    "3. ¿Cuál fue el número de personas atendidas por día?\n",
    "```\n",
    "La cantidad de personas atendidas (hombre o mujer) en cada uno de los días son las siguientes [178, 169, 164, 160, 176]\n",
    "```\n",
    "4. ¿Cuál fue el tiempo de atención promedio?\n",
    "```\n",
    "El tiempo de atención promedio (tanto para hombres como mujeres) de los 5 días fue de 148.56574803547173 seg. por persona.\n",
    "```\n",
    "5. ¿Cuánto fue la ganancia promedio de la cafetería en $5$ días de trabajo y su respectiva rentabilidad?\n",
    "```\n",
    "El ingreso promedio de la cafetería en los 5 días sería de 9790.712126684677 pesos diarios.\n",
    "```\n",
    "```\n",
    "Con una rentabilidad del 60%, la rentabilidad promedio de esos 5 días sería de 5874.427276010806 pesos diarios.\n",
    "```\n",
    "\n",
    "De manera extra, se realizó un **histograma** del consumo de $1000$ (escenarios) hombres por $5$ días, es decir, $5000$ hombres en total, el cual desmostró que esta distribución uniforme y también presuntamente todas las demás desarrolladas en este ejercicio, en efecto tienen una **distribución uniforme**.\n",
    "![image-2.png](attachment:image-2.png)"
   ]
  }
 ],
 "metadata": {
  "kernelspec": {
   "display_name": "Python 3",
   "language": "python",
   "name": "python3"
  },
  "language_info": {
   "codemirror_mode": {
    "name": "ipython",
    "version": 3
   },
   "file_extension": ".py",
   "mimetype": "text/x-python",
   "name": "python",
   "nbconvert_exporter": "python",
   "pygments_lexer": "ipython3",
   "version": "3.8.5"
  }
 },
 "nbformat": 4,
 "nbformat_minor": 4
}
